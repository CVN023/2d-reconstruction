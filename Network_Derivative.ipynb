{
 "cells": [
  {
   "cell_type": "code",
   "execution_count": 83,
   "metadata": {},
   "outputs": [],
   "source": [
    "import numpy as np\n",
    "import matplotlib.pyplot as plt\n",
    "import keras\n",
    "from keras.layers import Dense, Dropout, Activation\n",
    "from keras.models import Sequential\n",
    "\n",
    "from keras import backend as k\n",
    "from sklearn.model_selection import train_test_split\n",
    "import tensorflow as tf"
   ]
  },
  {
   "cell_type": "code",
   "execution_count": 102,
   "metadata": {},
   "outputs": [
    {
     "data": {
      "text/plain": [
       "<matplotlib.legend.Legend at 0x1c39e405f8>"
      ]
     },
     "execution_count": 102,
     "metadata": {},
     "output_type": "execute_result"
    },
    {
     "data": {
      "image/png": "[encoded data removed]",
      "text/plain": [
       "<Figure size 432x288 with 1 Axes>"
      ]
     },
     "metadata": {
      "needs_background": "light"
     },
     "output_type": "display_data"
    }
   ],
   "source": [
    "def f(x):\n",
    "    # quadratic\n",
    "    return ((x - 5)**2)/25.0\n",
    "\n",
    "def df(x):\n",
    "    # derivative of quadratic is linear\n",
    "    return 2*(x - 5) / 25.0\n",
    "\n",
    "# sample size\n",
    "n = 1000\n",
    "# these will be my training data sets, with regular sampling\n",
    "x = np.linspace(0,10,n)\n",
    "y = f(x)\n",
    "\n",
    "# split train/val\n",
    "x_train, x_val, y_train, y_val = train_test_split(x, y, test_size=0.15)\n",
    "\n",
    "# normalize\n",
    "# x = x / 10\n",
    "\n",
    "# get test data too, but randomly sampled\n",
    "# x_test = 10*np.random.ranf(20)\n",
    "# y_test = f(x_test)\n",
    "# x_test = x_test / 10\n",
    "\n",
    "plt.plot(x,y, label='training points')\n",
    "plt.plot(x_val,y_val, 'ko', label='test data')\n",
    "plt.legend()"
   ]
  },
  {
   "cell_type": "code",
   "execution_count": 109,
   "metadata": {},
   "outputs": [
    {
     "name": "stdout",
     "output_type": "stream",
     "text": [
      "[array([[ 0.10217768],\n",
      "       [ 0.03517009],\n",
      "       [-0.20952252],\n",
      "       [ 0.27514195],\n",
      "       [ 0.03517009],\n",
      "       [-0.11752787],\n",
      "       [-0.1638283 ],\n",
      "       [ 0.27514195],\n",
      "       [-0.28616786],\n",
      "       [-0.24460346],\n",
      "       [ 0.13441935],\n",
      "       [ 0.29319322],\n",
      "       [-0.20952252],\n",
      "       [-0.11752787],\n",
      "       [-0.03501771],\n",
      "       [-0.11752787],\n",
      "       [-0.20952252],\n",
      "       [ 0.32416737],\n",
      "       [ 0.13441935],\n",
      "       [ 0.20627531],\n",
      "       [-0.28301606],\n",
      "       [-0.03501771],\n",
      "       [-0.377501  ],\n",
      "       [ 0.03517009],\n",
      "       [ 0.03517009],\n",
      "       [-0.34143054],\n",
      "       [-0.01467784],\n",
      "       [-0.11752787],\n",
      "       [-0.01467784],\n",
      "       [-0.20952252],\n",
      "       [-0.20952252],\n",
      "       [-0.32202864],\n",
      "       [ 0.20627531],\n",
      "       [-0.03501771],\n",
      "       [ 0.03517009],\n",
      "       [ 0.32416737],\n",
      "       [ 0.03517009],\n",
      "       [ 0.32416737],\n",
      "       [ 0.32416737],\n",
      "       [-0.03501771],\n",
      "       [-0.01467784],\n",
      "       [-0.11752787],\n",
      "       [-0.11752787],\n",
      "       [ 0.13441935],\n",
      "       [ 0.32416737],\n",
      "       [ 0.32416737],\n",
      "       [-0.11752787],\n",
      "       [-0.20952252],\n",
      "       [-0.10581107],\n",
      "       [-0.03501771],\n",
      "       [ 0.10217768],\n",
      "       [-0.24460346],\n",
      "       [ 0.32416737],\n",
      "       [-0.01467784],\n",
      "       [-0.20952252],\n",
      "       [-0.03501771],\n",
      "       [-0.01467784],\n",
      "       [ 0.29319322],\n",
      "       [ 0.27514195],\n",
      "       [ 0.03517009],\n",
      "       [ 0.03517009],\n",
      "       [ 0.29319322],\n",
      "       [ 0.32416737],\n",
      "       [ 0.32416737],\n",
      "       [-0.28301606],\n",
      "       [-0.38165006],\n",
      "       [-0.01467784],\n",
      "       [ 0.03517009],\n",
      "       [ 0.27514195],\n",
      "       [ 0.20627531],\n",
      "       [-0.03501771],\n",
      "       [ 0.32416737],\n",
      "       [ 0.20627531],\n",
      "       [ 0.0351701 ],\n",
      "       [-0.20952249],\n",
      "       [-0.03501771],\n",
      "       [-0.377501  ],\n",
      "       [ 0.32416737],\n",
      "       [-0.24460346],\n",
      "       [-0.24460346],\n",
      "       [ 0.03517009],\n",
      "       [-0.21627486],\n",
      "       [-0.03501771],\n",
      "       [ 0.20627531],\n",
      "       [ 0.32416737],\n",
      "       [ 0.32416737],\n",
      "       [ 0.13441935],\n",
      "       [-0.11752787],\n",
      "       [-0.01467784],\n",
      "       [ 0.20627531],\n",
      "       [-0.11752787],\n",
      "       [ 0.32416737],\n",
      "       [ 0.03517009],\n",
      "       [ 0.10217768],\n",
      "       [-0.01467784],\n",
      "       [-0.01467784],\n",
      "       [-0.24460346],\n",
      "       [-0.20952252],\n",
      "       [ 0.03517009],\n",
      "       [ 0.20627531],\n",
      "       [ 0.27514195],\n",
      "       [-0.41178495],\n",
      "       [ 0.32416737],\n",
      "       [-0.21627486],\n",
      "       [-0.38165006],\n",
      "       [ 0.20627531],\n",
      "       [ 0.18274915],\n",
      "       [-0.377501  ],\n",
      "       [-0.23275179],\n",
      "       [ 0.18274915],\n",
      "       [ 0.20627531],\n",
      "       [-0.28616786],\n",
      "       [-0.20952252],\n",
      "       [ 0.27514195],\n",
      "       [ 0.27514195],\n",
      "       [-0.32202864],\n",
      "       [-0.20952252],\n",
      "       [-0.29944974],\n",
      "       [ 0.10217768],\n",
      "       [-0.23275179],\n",
      "       [ 0.03517009],\n",
      "       [ 0.32416737],\n",
      "       [-0.03501771],\n",
      "       [ 0.32416737],\n",
      "       [-0.11752787],\n",
      "       [ 0.27514195],\n",
      "       [ 0.03517009],\n",
      "       [-0.3064646 ],\n",
      "       [-0.11752787],\n",
      "       [ 0.29319322],\n",
      "       [ 0.20627531],\n",
      "       [ 0.03517009],\n",
      "       [ 0.10217768],\n",
      "       [-0.11752787],\n",
      "       [ 0.03517009],\n",
      "       [-0.20952252],\n",
      "       [ 0.03517009],\n",
      "       [-0.29944974],\n",
      "       [-0.03501771],\n",
      "       [ 0.20627531],\n",
      "       [ 0.20627531],\n",
      "       [-0.35667083],\n",
      "       [ 0.32416737],\n",
      "       [ 0.32416737],\n",
      "       [ 0.27514195],\n",
      "       [-0.20952252],\n",
      "       [-0.32202864],\n",
      "       [-0.38165003],\n",
      "       [-0.03501771],\n",
      "       [-0.03501771]], dtype=float32)]\n"
     ]
    }
   ],
   "source": [
    "model = Sequential()\n",
    "# 1d input\n",
    "model.add(Dense(64, input_dim=1, activation='relu'))\n",
    "model.add(Activation(\"linear\"))\n",
    "model.add(Dense(32, activation='relu'))\n",
    "model.add(Activation(\"linear\"))\n",
    "model.add(Dense(32, activation='relu'))\n",
    "# 1d output\n",
    "model.add(Dense(1))\n",
    "\n",
    "# minimize mse\n",
    "model.compile(loss='mse', optimizer='adam', metrics=[\"accuracy\"])\n",
    "\n",
    "\n",
    "model.fit(x, y,\n",
    "          batch_size=10,\n",
    "          epochs=25,\n",
    "          verbose=0,\n",
    "          validation_data=(x_test, y_test))\n",
    "\n",
    "## compute derivative (gradient)\n",
    "session = k.get_session()\n",
    "# session.run(tf.global_variables_initializer())\n",
    "y_val_d_evaluated = session.run(tf.gradients(model.output, model.input), feed_dict={model.input: x_val.reshape(len(x_val), 1)})\n",
    "\n",
    "print(y_val_d_evaluated)"
   ]
  },
  {
   "cell_type": "code",
   "execution_count": 104,
   "metadata": {},
   "outputs": [
    {
     "data": {
      "text/plain": [
       "<matplotlib.legend.Legend at 0x1c3a3fee80>"
      ]
     },
     "execution_count": 104,
     "metadata": {},
     "output_type": "execute_result"
    },
    {
     "data": {
      "image/png": "[encoded data removed]",
      "text/plain": [
       "<Figure size 432x288 with 1 Axes>"
      ]
     },
     "metadata": {
      "needs_background": "light"
     },
     "output_type": "display_data"
    }
   ],
   "source": [
    "y_result = model.predict(x_val)\n",
    "plt.plot(x,y, label='exact')\n",
    "plt.plot(x_val, y_result, 'go', label='predictions')\n",
    "plt.legend()"
   ]
  },
  {
   "cell_type": "code",
   "execution_count": 114,
   "metadata": {},
   "outputs": [
    {
     "data": {
      "text/plain": [
       "<matplotlib.legend.Legend at 0x1c39781be0>"
      ]
     },
     "execution_count": 114,
     "metadata": {},
     "output_type": "execute_result"
    },
    {
     "data": {
      "image/png": "[encoded data removed]",
      "text/plain": [
       "<Figure size 432x288 with 1 Axes>"
      ]
     },
     "metadata": {
      "needs_background": "light"
     },
     "output_type": "display_data"
    }
   ],
   "source": [
    "plt.plot(x, df(x), label='dy/dx exact')\n",
    "plt.legend()"
   ]
  },
  {
   "cell_type": "code",
   "execution_count": 115,
   "metadata": {},
   "outputs": [
    {
     "name": "stdout",
     "output_type": "stream",
     "text": [
      "6.296296296296296 - [0.10217768] - 0.10370370370370367\n",
      "5.495495495495495 - [0.03517009] - 0.03963963963963962\n",
      "2.2922922922922924 - [-0.20952252] - -0.2166166166166166\n",
      "8.178178178178179 - [0.27514195] - 0.2542542542542543\n",
      "5.405405405405405 - [0.03517009] - 0.03243243243243242\n",
      "3.853853853853854 - [-0.11752787] - -0.0916916916916917\n",
      "0.0 - [-0.1638283] - -0.4\n",
      "8.128128128128129 - [0.27514195] - 0.25025025025025033\n",
      "0.5405405405405406 - [-0.28616786] - -0.3567567567567568\n",
      "1.951951951951952 - [-0.24460346] - -0.24384384384384383\n"
     ]
    }
   ],
   "source": [
    "## compute derivative (gradient)\n",
    "session = k.get_session()\n",
    "# session.run(tf.global_variables_initializer())\n",
    "y_val_d_evaluated = session.run(tf.gradients(model.output, model.input), feed_dict={model.input: x_val.reshape(len(x_val), 1)})\n",
    "\n",
    "for i in range(10):\n",
    "    print(x_val[i], '-', y_val_d_evaluated[0][i], '-', df(x_val[i]))"
   ]
  },
  {
   "cell_type": "code",
   "execution_count": 116,
   "metadata": {},
   "outputs": [
    {
     "data": {
      "text/plain": [
       "<matplotlib.legend.Legend at 0x1c3bd8ef98>"
      ]
     },
     "execution_count": 116,
     "metadata": {},
     "output_type": "execute_result"
    },
    {
     "data": {
      "image/png": "[encoded data removed]",
      "text/plain": [
       "<Figure size 432x288 with 1 Axes>"
      ]
     },
     "metadata": {
      "needs_background": "light"
     },
     "output_type": "display_data"
    }
   ],
   "source": [
    "plt.plot(x, df(x), label='dy/dx exact')\n",
    "plt.plot(x_val, y_val_d_evaluated[0], 'go', label='predictions')\n",
    "plt.legend()"
   ]
  },
  {
   "cell_type": "code",
   "execution_count": 117,
   "metadata": {},
   "outputs": [
    {
     "name": "stdout",
     "output_type": "stream",
     "text": [
      "3.853853853853854 - [-0.11752787] - -0.0916916916916917\n",
      "3.943943943943944 - [-0.11752787] - -0.08448448448448449\n",
      "3.133133133133133 - [-0.11752787] - -0.14934934934934938\n",
      "3.2932932932932935 - [-0.11752787] - -0.13653653653653652\n",
      "3.923923923923924 - [-0.11752787] - -0.08608608608608609\n",
      "3.103103103103103 - [-0.11752787] - -0.15175175175175176\n",
      "3.203203203203203 - [-0.11752787] - -0.14374374374374377\n",
      "3.3233233233233235 - [-0.11752787] - -0.1341341341341341\n",
      "3.3933933933933935 - [-0.11752787] - -0.12852852852852853\n",
      "3.5035035035035036 - [-0.11752787] - -0.11971971971971972\n",
      "3.6036036036036037 - [-0.11752787] - -0.11171171171171171\n",
      "3.7237237237237237 - [-0.11752787] - -0.1021021021021021\n"
     ]
    }
   ],
   "source": [
    "for i in range(len(x_val)):\n",
    "    if x_val[i] > 3 and x_val[i] < 4:\n",
    "        print(x_val[i], '-', y_val_d_evaluated[0][i], '-', df(x_val[i]))"
   ]
  },
  {
   "cell_type": "code",
   "execution_count": null,
   "metadata": {},
   "outputs": [],
   "source": []
  }
 ],
 "metadata": {
  "kernelspec": {
   "display_name": "Python 3",
   "language": "python",
   "name": "python3"
  },
  "language_info": {
   "codemirror_mode": {
    "name": "ipython",
    "version": 3
   },
   "file_extension": ".py",
   "mimetype": "text/x-python",
   "name": "python",
   "nbconvert_exporter": "python",
   "pygments_lexer": "ipython3",
   "version": "3.6.8"
  }
 },
 "nbformat": 4,
 "nbformat_minor": 2
}
