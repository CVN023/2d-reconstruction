{
 "cells": [
  {
   "cell_type": "code",
   "execution_count": 17,
   "metadata": {},
   "outputs": [],
   "source": [
    "import numpy as np\n",
    "import matplotlib.pyplot as plt\n",
    "import keras\n",
    "from keras.layers import Dense, Dropout, Activation\n",
    "from keras.models import Sequential\n",
    "\n",
    "from keras import backend as k\n",
    "from sklearn.model_selection import train_test_split\n",
    "import tensorflow as tf"
   ]
  },
  {
   "cell_type": "code",
   "execution_count": 26,
   "metadata": {},
   "outputs": [
    {
     "name": "stdout",
     "output_type": "stream",
     "text": [
      "___\n",
      "[ 4.91491491  6.93693694  5.95595596  5.88588589  2.96296296  2.46246246\n",
      "  7.15715716  7.45745746  6.20620621  5.08508509  3.62362362  0.14014014\n",
      "  9.54954955  1.001001    6.45645646  2.1021021   4.06406406  1.72172172\n",
      "  8.30830831  0.15015015  3.49349349  0.44044044  6.43643644  0.82082082\n",
      "  6.08608609  2.5025025   6.10610611  2.8028028   7.87787788  7.48748749\n",
      "  4.02402402  2.87287287  4.33433433  3.02302302  0.3003003   2.67267267\n",
      "  5.18518519  9.70970971  5.47547548  0.7007007   5.62562563  5.78578579\n",
      " 10.          1.62162162  4.22422422  7.18718719  1.23123123  4.25425425\n",
      "  8.70870871  5.15515516  4.87487487  7.97797798  7.41741742  6.2962963\n",
      "  6.26626627  2.19219219  9.06906907  2.2022022   0.62062062  9.97997998\n",
      "  0.49049049  2.84284284  8.93893894  5.00500501  5.60560561  9.58958959\n",
      "  6.8968969   3.01301301  0.48048048  0.83083083  8.76876877  1.86186186\n",
      "  4.68468468  9.88988989  8.45845846  9.40940941  8.24824825  2.15215215\n",
      "  3.08308308  8.20820821  1.32132132  5.37537538  7.17717718  9.1991992\n",
      "  9.7997998   5.74574575  0.29029029  6.65665666  6.6966967   5.26526527\n",
      "  7.55755756  6.15615616  7.65765766  3.84384384  9.3993994   4.19419419\n",
      "  4.85485485  2.65265265  3.27327327  2.68268268  0.97097097  4.41441441\n",
      "  0.5005005   1.12112112  0.66066066  1.65165165  0.12012012  5.05505506\n",
      "  9.44944945  0.13013013  7.23723724  4.55455455  1.31131131  1.47147147\n",
      "  5.04504505  2.38238238  2.59259259  1.17117117  2.77277277  8.61861862\n",
      "  3.11311311  8.6986987   0.69069069  4.14414414  4.32432432  0.54054054\n",
      "  1.56156156  5.81581582  7.35735736  3.44344344  7.95795796  0.08008008\n",
      "  8.998999    4.78478478  0.68068068  7.38738739  0.36036036  3.86386386\n",
      "  8.46846847  0.45045045  9.35935936  8.34834835  6.30630631  3.8038038\n",
      "  6.52652653  1.39139139  0.37037037  3.09309309  9.01901902  6.05605606]\n",
      "(150,)\n"
     ]
    }
   ],
   "source": [
    "def f(x):\n",
    "    # quadratic\n",
    "    return ((x - 5)**2)/25.0\n",
    "\n",
    "def df(x):\n",
    "    # derivative of quadratic is linear\n",
    "    return 2*(x - 5) / 25.0\n",
    "\n",
    "# sample size\n",
    "n = 1000\n",
    "# these will be my training data sets, with regular sampling\n",
    "x = np.linspace(0,10,n)\n",
    "y = f(x)\n",
    "\n",
    "# split train/val\n",
    "x_train, x_val, y_train, y_val = train_test_split(x, y, test_size=0.15)\n",
    "\n",
    "# normalize\n",
    "# x = x / 10\n",
    "\n",
    "# get test data too, but randomly sampled\n",
    "# x_test = 10*np.random.ranf(20)\n",
    "# y_test = f(x_test)\n",
    "# x_test = x_test / 10\n",
    "\n",
    "plt.plot(x,y, label='training points')\n",
    "plt.plot(x_val,y_val, 'ko', label='test data')\n",
    "plt.legend()\n",
    "\n",
    "print('___')\n",
    "print(x_val)\n",
    "print(x_val.shape)"
   ]
  },
  {
   "cell_type": "code",
   "execution_count": 19,
   "metadata": {},
   "outputs": [
    {
     "name": "stdout",
     "output_type": "stream",
     "text": [
      "[array([[ 0.02917087],\n",
      "       [-0.33106625],\n",
      "       [-0.07538837],\n",
      "       [ 0.32704112],\n",
      "       [-0.07538837],\n",
      "       [ 0.17866257],\n",
      "       [-0.16865748],\n",
      "       [ 0.02917087],\n",
      "       [ 0.17866257],\n",
      "       [-0.33106625],\n",
      "       [-0.31717408],\n",
      "       [ 0.32704112],\n",
      "       [ 0.32704112],\n",
      "       [-0.31717408],\n",
      "       [ 0.07287371],\n",
      "       [ 0.25594902],\n",
      "       [ 0.25594902],\n",
      "       [-0.30495685],\n",
      "       [-0.07538837],\n",
      "       [-0.16853617],\n",
      "       [-0.37502933],\n",
      "       [ 0.23112163],\n",
      "       [-0.18275361],\n",
      "       [-0.07538837],\n",
      "       [-0.07538837],\n",
      "       [-0.07538837],\n",
      "       [-0.30495685],\n",
      "       [-0.00994739],\n",
      "       [ 0.17866257],\n",
      "       [ 0.23112163],\n",
      "       [-0.07538837],\n",
      "       [ 0.23112163],\n",
      "       [ 0.32704112],\n",
      "       [-0.07538837],\n",
      "       [-0.23811704],\n",
      "       [-0.16865748],\n",
      "       [ 0.07287371],\n",
      "       [ 0.32704112],\n",
      "       [ 0.17866257],\n",
      "       [ 0.32704112],\n",
      "       [-0.35769475],\n",
      "       [ 0.02917087],\n",
      "       [-0.16865748],\n",
      "       [ 0.02917087],\n",
      "       [ 0.32704112],\n",
      "       [ 0.17866257],\n",
      "       [-0.07538837],\n",
      "       [ 0.23112163],\n",
      "       [ 0.25594902],\n",
      "       [-0.16865748],\n",
      "       [ 0.02917087],\n",
      "       [ 0.02917087],\n",
      "       [ 0.02917087],\n",
      "       [ 0.32704112],\n",
      "       [-0.07298535],\n",
      "       [ 0.07287371],\n",
      "       [ 0.02917087],\n",
      "       [ 0.07287371],\n",
      "       [-0.30495685],\n",
      "       [-0.24538052],\n",
      "       [ 0.17866257],\n",
      "       [-0.28663683],\n",
      "       [-0.31717408],\n",
      "       [ 0.02917087],\n",
      "       [-0.23811704],\n",
      "       [-0.16853617],\n",
      "       [ 0.32704112],\n",
      "       [-0.16853617],\n",
      "       [ 0.17866257],\n",
      "       [ 0.23112163],\n",
      "       [-0.07538837],\n",
      "       [ 0.07287371],\n",
      "       [ 0.25594902],\n",
      "       [ 0.32704112],\n",
      "       [ 0.07287371],\n",
      "       [-0.37502933],\n",
      "       [-0.07298535],\n",
      "       [ 0.17866257],\n",
      "       [ 0.17866257],\n",
      "       [-0.37867075],\n",
      "       [-0.07298535],\n",
      "       [-0.24538052],\n",
      "       [ 0.07287371],\n",
      "       [-0.16865748],\n",
      "       [ 0.17866257],\n",
      "       [ 0.07287371],\n",
      "       [-0.16865748],\n",
      "       [-0.28663683],\n",
      "       [ 0.02917087],\n",
      "       [ 0.23112163],\n",
      "       [ 0.17866257],\n",
      "       [ 0.17866257],\n",
      "       [ 0.17866257],\n",
      "       [ 0.32704112],\n",
      "       [-0.07538837],\n",
      "       [ 0.32704112],\n",
      "       [-0.37867075],\n",
      "       [-0.07538837],\n",
      "       [ 0.32704112],\n",
      "       [-0.37439072],\n",
      "       [ 0.17866257],\n",
      "       [-0.23811704],\n",
      "       [-0.24538052],\n",
      "       [-0.07538837],\n",
      "       [-0.07538837],\n",
      "       [-0.07298535],\n",
      "       [ 0.07287371],\n",
      "       [-0.07538837],\n",
      "       [-0.07538837],\n",
      "       [ 0.07287371],\n",
      "       [ 0.17866257],\n",
      "       [-0.24538052],\n",
      "       [-0.23811704],\n",
      "       [-0.07538837],\n",
      "       [ 0.23112163],\n",
      "       [ 0.17866257],\n",
      "       [ 0.32704112],\n",
      "       [-0.07538837],\n",
      "       [ 0.32704112],\n",
      "       [-0.2118637 ],\n",
      "       [ 0.32704112],\n",
      "       [ 0.32704112],\n",
      "       [-0.30495685],\n",
      "       [ 0.17866257],\n",
      "       [-0.30495685],\n",
      "       [-0.37502933],\n",
      "       [-0.0635714 ],\n",
      "       [ 0.07287371],\n",
      "       [-0.37867075],\n",
      "       [ 0.32704112],\n",
      "       [-0.16853617],\n",
      "       [ 0.23112163],\n",
      "       [-0.16865748],\n",
      "       [ 0.07287371],\n",
      "       [ 0.32704112],\n",
      "       [-0.16865748],\n",
      "       [-0.16853617],\n",
      "       [ 0.32704112],\n",
      "       [ 0.07287371],\n",
      "       [ 0.07287371],\n",
      "       [ 0.17866257],\n",
      "       [ 0.02917087],\n",
      "       [ 0.07287371],\n",
      "       [-0.33106625],\n",
      "       [ 0.17866257],\n",
      "       [-0.07538837],\n",
      "       [-0.07538837],\n",
      "       [ 0.17866257],\n",
      "       [-0.37439072],\n",
      "       [ 0.32704112]], dtype=float32)]\n"
     ]
    }
   ],
   "source": [
    "model = Sequential()\n",
    "# 1d input\n",
    "model.add(Dense(64, input_dim=1, activation='relu'))\n",
    "model.add(Activation(\"linear\"))\n",
    "model.add(Dense(32, activation='relu'))\n",
    "model.add(Activation(\"linear\"))\n",
    "model.add(Dense(32, activation='relu'))\n",
    "# 1d output\n",
    "model.add(Dense(1))\n",
    "\n",
    "# minimize mse\n",
    "model.compile(loss='mse', optimizer='adam', metrics=[\"accuracy\"])\n",
    "\n",
    "\n",
    "model.fit(x, y,\n",
    "          batch_size=10,\n",
    "          epochs=25,\n",
    "          verbose=0,\n",
    "          validation_data=(x_val, y_val))\n",
    "\n",
    "## compute derivative (gradient)\n",
    "session = k.get_session()\n",
    "# session.run(tf.global_variables_initializer())\n",
    "y_val_d_evaluated = session.run(tf.gradients(model.output, model.input), feed_dict={model.input: x_val.reshape(len(x_val), 1)})\n",
    "\n",
    "print(y_val_d_evaluated)"
   ]
  },
  {
   "cell_type": "code",
   "execution_count": 20,
   "metadata": {},
   "outputs": [
    {
     "data": {
      "image/png": "[encoded data removed]",
      "text/plain": [
       "<Figure size 432x288 with 1 Axes>"
      ]
     },
     "metadata": {},
     "output_type": "display_data"
    }
   ],
   "source": [
    "y_result = model.predict(x_val)\n",
    "plt.plot(x,y, label='exact')\n",
    "plt.plot(x_val, y_result, 'go', label='predictions')\n",
    "plt.legend()\n",
    "plt.show()"
   ]
  },
  {
   "cell_type": "code",
   "execution_count": 21,
   "metadata": {},
   "outputs": [
    {
     "data": {
      "image/png": "[encoded data removed]",
      "text/plain": [
       "<Figure size 432x288 with 1 Axes>"
      ]
     },
     "metadata": {},
     "output_type": "display_data"
    }
   ],
   "source": [
    "plt.plot(x, df(x), label='dy/dx exact')\n",
    "plt.legend()\n",
    "plt.show()"
   ]
  },
  {
   "cell_type": "code",
   "execution_count": 32,
   "metadata": {},
   "outputs": [
    {
     "name": "stdout",
     "output_type": "stream",
     "text": [
      "4.914914914914915 - [0.02917087] - -0.006806806806806804\n",
      "6.936936936936937 - [0.17866257] - 0.15495495495495498\n",
      "5.955955955955956 - [0.07287371] - 0.07647647647647644\n",
      "5.885885885885886 - [0.07287371] - 0.07087087087087085\n",
      "2.962962962962963 - [-0.16853617] - -0.16296296296296298\n",
      "2.4624624624624625 - [-0.16865748] - -0.203003003003003\n",
      "7.157157157157157 - [0.17866257] - 0.17257257257257258\n",
      "7.4574574574574575 - [0.17866257] - 0.1965965965965966\n",
      "6.206206206206206 - [0.07287371] - 0.09649649649649646\n",
      "5.085085085085085 - [0.02917087] - 0.006806806806806804\n"
     ]
    }
   ],
   "source": [
    "## compute derivative (gradient)\n",
    "session = k.get_session()\n",
    "# session.run(tf.global_variables_initializer())\n",
    "y_val_d_evaluated = session.run(tf.gradients(model.output, model.input), feed_dict={model.input: x_val.reshape(len(x_val), 1)})\n",
    "\n",
    "for i in range(10):\n",
    "    print(x_val[i], '-', y_val_d_evaluated[0][i], '-', df(x_val[i]))"
   ]
  },
  {
   "cell_type": "code",
   "execution_count": 33,
   "metadata": {},
   "outputs": [
    {
     "data": {
      "image/png": "[encoded data removed]",
      "text/plain": [
       "<Figure size 432x288 with 1 Axes>"
      ]
     },
     "metadata": {},
     "output_type": "display_data"
    }
   ],
   "source": [
    "plt.plot(x, df(x), label='dy/dx exact')\n",
    "plt.plot(x_val, y_val_d_evaluated[0], 'go', label='predictions')\n",
    "plt.legend()\n",
    "plt.show()"
   ]
  },
  {
   "cell_type": "code",
   "execution_count": 34,
   "metadata": {},
   "outputs": [
    {
     "name": "stdout",
     "output_type": "stream",
     "text": [
      "3.6236236236236237 - [-0.07298535] - -0.11011011011011011\n",
      "3.4934934934934936 - [-0.18275361] - -0.12052052052052051\n",
      "3.023023023023023 - [-0.16853617] - -0.15815815815815817\n",
      "3.013013013013013 - [-0.16853617] - -0.15895895895895898\n",
      "3.083083083083083 - [-0.16853617] - -0.15335335335335337\n",
      "3.843843843843844 - [-0.07538837] - -0.0924924924924925\n",
      "3.2732732732732734 - [-0.16853617] - -0.13813813813813813\n",
      "3.113113113113113 - [-0.16853617] - -0.15095095095095096\n",
      "3.4434434434434436 - [-0.16853617] - -0.12452452452452452\n",
      "3.863863863863864 - [-0.07538837] - -0.09089089089089089\n",
      "3.803803803803804 - [-0.07298535] - -0.09569569569569569\n",
      "3.093093093093093 - [-0.16853617] - -0.15255255255255257\n"
     ]
    }
   ],
   "source": [
    "for i in range(len(x_val)):\n",
    "    if x_val[i] > 3 and x_val[i] < 4:\n",
    "        print(x_val[i], '-', y_val_d_evaluated[0][i], '-', df(x_val[i]))"
   ]
  },
  {
   "cell_type": "code",
   "execution_count": 35,
   "metadata": {
    "collapsed": true
   },
   "outputs": [],
   "source": [
    "outputs = model.output\n",
    "trainable_variables = model.trainable_weights"
   ]
  },
  {
   "cell_type": "code",
   "execution_count": 41,
   "metadata": {},
   "outputs": [],
   "source": [
    "gradients = k.gradients(trainable_variables, outputs)"
   ]
  },
  {
   "cell_type": "code",
   "execution_count": 42,
   "metadata": {},
   "outputs": [
    {
     "name": "stdout",
     "output_type": "stream",
     "text": [
      "[None]\n"
     ]
    }
   ],
   "source": [
    "print(gradients)"
   ]
  },
  {
   "cell_type": "code",
   "execution_count": null,
   "metadata": {
    "collapsed": true
   },
   "outputs": [],
   "source": []
  }
 ],
 "metadata": {
  "kernelspec": {
   "display_name": "Python 3",
   "language": "python",
   "name": "python3"
  },
  "language_info": {
   "codemirror_mode": {
    "name": "ipython",
    "version": 3
   },
   "file_extension": ".py",
   "mimetype": "text/x-python",
   "name": "python",
   "nbconvert_exporter": "python",
   "pygments_lexer": "ipython3",
   "version": "3.6.2"
  }
 },
 "nbformat": 4,
 "nbformat_minor": 2
}
