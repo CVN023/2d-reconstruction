{
 "cells": [
  {
   "cell_type": "code",
   "execution_count": 1,
   "metadata": {
    "collapsed": true
   },
   "outputs": [],
   "source": [
    "import torch \n",
    "import torch.nn as nn\n",
    "import torchvision\n",
    "import torchvision.datasets as dsets\n",
    "from skimage import transform\n",
    "import torchvision.transforms as transforms\n",
    "from torch.autograd import Variable\n",
    "import pandas as pd;\n",
    "import numpy as np;\n",
    "from torch.utils.data import Dataset, DataLoader\n",
    "# from vis_utils import *\n",
    "import random\n",
    "import h5py\n",
    "import math\n",
    "import torch.nn.functional as F"
   ]
  },
  {
   "cell_type": "code",
   "execution_count": 2,
   "metadata": {
    "collapsed": true
   },
   "outputs": [],
   "source": [
    "# Hyperparameters\n",
    "num_epochs = 2\n",
    "num_classes = 10\n",
    "batch_size = 1\n",
    "learning_rate = 0.001\n",
    "\n",
    "DATA_PATH = 'MNIST'\n",
    "MODEL_STORE_PATH = 'pytorch_model\\\\'"
   ]
  },
  {
   "cell_type": "code",
   "execution_count": 3,
   "metadata": {
    "collapsed": true
   },
   "outputs": [],
   "source": [
    "# transforms to apply to the data\n",
    "trans = transforms.Compose([transforms.ToTensor(), transforms.Normalize((0.1307,), (0.3081,))])\n",
    "\n",
    "# MNIST dataset\n",
    "train_dataset = torchvision.datasets.MNIST(root=DATA_PATH, train=True, transform=trans, download=True)\n",
    "test_dataset = torchvision.datasets.MNIST(root=DATA_PATH, train=False, transform=trans)"
   ]
  },
  {
   "cell_type": "code",
   "execution_count": 4,
   "metadata": {
    "collapsed": true
   },
   "outputs": [],
   "source": [
    "# transforms to apply to the data\n",
    "trans = transforms.Compose([transforms.ToTensor(), transforms.Normalize((0.1307,), (0.3081,))])\n",
    "\n",
    "# MNIST dataset\n",
    "train_dataset = torchvision.datasets.MNIST(root=DATA_PATH, train=True, transform=trans, download=True)\n",
    "test_dataset = torchvision.datasets.MNIST(root=DATA_PATH, train=False, transform=trans)"
   ]
  },
  {
   "cell_type": "code",
   "execution_count": 5,
   "metadata": {
    "collapsed": true
   },
   "outputs": [],
   "source": [
    "train_loader = DataLoader(dataset=train_dataset, batch_size=batch_size, shuffle=True)\n",
    "test_loader = DataLoader(dataset=test_dataset, batch_size=batch_size, shuffle=False)"
   ]
  },
  {
   "cell_type": "code",
   "execution_count": 6,
   "metadata": {
    "collapsed": true
   },
   "outputs": [],
   "source": [
    "class ConvNet(nn.Module):\n",
    "    def __init__(self):\n",
    "        super(ConvNet, self).__init__()\n",
    "        self.layer1 = nn.Sequential(\n",
    "            nn.Conv2d(1, 32, kernel_size=5, stride=1, padding=2),\n",
    "            nn.ReLU(),\n",
    "            nn.MaxPool2d(kernel_size=2, stride=2))\n",
    "        self.layer2 = nn.Sequential(\n",
    "            nn.Conv2d(32, 64, kernel_size=5, stride=1, padding=2),\n",
    "            nn.ReLU(),\n",
    "            nn.MaxPool2d(kernel_size=2, stride=2))\n",
    "        self.drop_out = nn.Dropout()\n",
    "        self.fc1 = nn.Linear(16384, 1000)\n",
    "#         self.fc1 = nn.Linear(7 * 7 * 64, 1000)\n",
    "        self.fc2 = nn.Linear(1000, 1)\n",
    "        \n",
    "    def forward(self, x):\n",
    "        out = self.layer1(x)\n",
    "        out = self.layer2(out)\n",
    "        out = out.reshape(out.size(0), -1)\n",
    "        out = self.drop_out(out)\n",
    "#         print('shape, before fc1', out.shape)\n",
    "        out = self.fc1(out)\n",
    "#         out = self.fc2(out)\n",
    "        out = F.relu(self.fc2(out))\n",
    "        return out"
   ]
  },
  {
   "cell_type": "code",
   "execution_count": 7,
   "metadata": {
    "collapsed": true
   },
   "outputs": [],
   "source": [
    "model = ConvNet()\n",
    "\n",
    "# Loss and optimizer\n",
    "# criterion = nn.CrossEntropyLoss()\n",
    "# optimizer = torch.optim.Adam(model.parameters(), lr=learning_rate)\n",
    "\n",
    "optimizer = torch.optim.SGD(model.parameters(), lr=0.0001)\n",
    "criterion = nn.MSELoss()  # this is for regression mean squared loss"
   ]
  },
  {
   "cell_type": "code",
   "execution_count": 8,
   "metadata": {
    "collapsed": true
   },
   "outputs": [],
   "source": [
    "# # Train the model\n",
    "# total_step = len(train_loader)\n",
    "# loss_list = []\n",
    "# acc_list = []\n",
    "# for epoch in range(num_epochs):\n",
    "#     for i, (images, labels) in enumerate(train_loader):\n",
    "#         # Run the forward pass\n",
    "#         print(images.shape)\n",
    "#         images = Variable(images.float())\n",
    "#         print(images.shape)\n",
    "#         print(images.type)\n",
    "#         labels = Variable(labels)\n",
    "#         print('labels')\n",
    "#         print(labels)\n",
    "#         print(labels.shape)\n",
    "#         outputs = model(images)\n",
    "#         loss = loss_func(outputs, labels)\n",
    "#         loss_list.append(loss.item())\n",
    "\n",
    "#         # Backprop and perform Adam optimisation\n",
    "#         optimizer.zero_grad()\n",
    "#         loss.backward()\n",
    "#         optimizer.step()\n",
    "\n",
    "#         # Track the accuracy\n",
    "#         total = labels.size(0)\n",
    "#         _, predicted = torch.max(outputs.data, 1)\n",
    "#         correct = (predicted == labels).sum().item()\n",
    "#         acc_list.append(correct / total)\n",
    "\n",
    "#         if (i + 1) % 100 == 0:\n",
    "#             print('Epoch [{}/{}], Step [{}/{}], Loss: {:.4f}, Accuracy: {:.2f}%'\n",
    "#                   .format(epoch + 1, num_epochs, i + 1, total_step, loss.item(),\n",
    "#                           (correct / total) * 100))"
   ]
  },
  {
   "cell_type": "code",
   "execution_count": 9,
   "metadata": {
    "collapsed": true
   },
   "outputs": [],
   "source": [
    "# print('Here is the size of the input images:', images.shape)\n",
    "# print('Here is the size of the outputs:', outputs.shape)"
   ]
  },
  {
   "cell_type": "code",
   "execution_count": 10,
   "metadata": {
    "collapsed": true
   },
   "outputs": [],
   "source": [
    "import matplotlib.pyplot as plt\n",
    "from PIL import Image\n",
    "\n",
    "\n",
    "# plt.imshow(IMAGE)\n",
    "# plt.show()"
   ]
  },
  {
   "cell_type": "code",
   "execution_count": 11,
   "metadata": {
    "collapsed": true
   },
   "outputs": [],
   "source": [
    "number_brains_train = 100\n",
    "brains = []\n",
    "for i in range(1, 1+number_brains_train):\n",
    "    with h5py.File('../Brains/%s.mat' %i, 'r') as f:\n",
    "#         print(list(f.keys()))\n",
    "#         print(list(f['cjdata'].keys()))\n",
    "        brain = np.array(f['cjdata']['image'])\n",
    "        brain = brain[::8, ::8]\n",
    "        brains += [brain]\n",
    "\n",
    "# columns = 2\n",
    "# rows = 5\n",
    "\n",
    "# fig=plt.figure(figsize=(20, 20))\n",
    "# for i in range(1, 11):\n",
    "#     brain = brains[i-1]\n",
    "#     fig.add_subplot(rows, columns, i)\n",
    "#     plt.imshow(brain)\n",
    "# plt.show()\n"
   ]
  },
  {
   "cell_type": "code",
   "execution_count": 12,
   "metadata": {
    "collapsed": true
   },
   "outputs": [],
   "source": [
    "resulting_brains = []\n",
    "vars_ = []\n",
    "number_brains_blurried = 10\n",
    "\n",
    "for l in range(len(brains)):\n",
    "    test_brain = brains[l]/1000\n",
    "    resulting_brains.append(test_brain)\n",
    "    vars_.append(0)\n",
    "    for i in range(number_brains_blurried):\n",
    "        var = 0\n",
    "        changed_brain = np.copy(test_brain)\n",
    "        for j in range(64):\n",
    "            for k in range(64):\n",
    "                value = changed_brain[k][j]\n",
    "                add = np.random.randint(max(-value, -1000+100*i), 1000-100*i)/1000\n",
    "                #print(changed_brain[k][j])\n",
    "                changed_brain[k][j] = value + add\n",
    "                #print(changed_brain[k][j])\n",
    "\n",
    "                var = var + add/1000\n",
    "        resulting_brains.append(changed_brain)\n",
    "        vars_.append(var)"
   ]
  },
  {
   "cell_type": "code",
   "execution_count": 13,
   "metadata": {},
   "outputs": [
    {
     "name": "stdout",
     "output_type": "stream",
     "text": [
      "1100\n",
      "1100\n",
      "0.001454\n"
     ]
    }
   ],
   "source": [
    "print(len(vars_))\n",
    "print(len(resulting_brains))\n",
    "\n",
    "print((test_brain/1000)[32][32])"
   ]
  },
  {
   "cell_type": "code",
   "execution_count": 14,
   "metadata": {},
   "outputs": [
    {
     "name": "stdout",
     "output_type": "stream",
     "text": [
      "1100 (1100, 1)\n"
     ]
    }
   ],
   "source": [
    "# labels_ = np.random.randint(1, 10, 10).reshape(10, 1)\n",
    "# print(np.array(brains).shape)\n",
    "# brains = np.array(brains).reshape(10, 1, 64, 64)\n",
    "# print(labels_.shape, brains.shape)\n",
    "# print(labels_)\n",
    "\n",
    "vars_ = np.array(vars_).reshape(number_brains_train*(number_brains_blurried+1), 1)\n",
    "resulting_brains = np.array(resulting_brains).reshape(number_brains_train*(number_brains_blurried+1), 1, 64, 64)\n",
    "\n",
    "print(vars_.shape[0], vars_.shape)"
   ]
  },
  {
   "cell_type": "code",
   "execution_count": 15,
   "metadata": {},
   "outputs": [
    {
     "name": "stdout",
     "output_type": "stream",
     "text": [
      "Epoch [1/2], Step [100/1100], Loss: 0.3303\n",
      "Epoch [1/2], Step [200/1100], Loss: 0.3243\n",
      "Epoch [1/2], Step [300/1100], Loss: 0.1427\n",
      "Epoch [1/2], Step [400/1100], Loss: 0.2779\n",
      "Epoch [1/2], Step [500/1100], Loss: 0.0311\n",
      "Epoch [1/2], Step [600/1100], Loss: 0.0177\n",
      "Epoch [1/2], Step [700/1100], Loss: 0.0001\n",
      "Epoch [1/2], Step [800/1100], Loss: 0.0130\n",
      "Epoch [1/2], Step [900/1100], Loss: 0.0590\n",
      "Epoch [1/2], Step [1000/1100], Loss: 0.0141\n",
      "Epoch [1/2], Step [1100/1100], Loss: 0.0828\n",
      "Epoch [2/2], Step [100/1100], Loss: 0.0936\n",
      "Epoch [2/2], Step [200/1100], Loss: 0.0102\n",
      "Epoch [2/2], Step [300/1100], Loss: 0.0977\n",
      "Epoch [2/2], Step [400/1100], Loss: 0.0001\n",
      "Epoch [2/2], Step [500/1100], Loss: 0.0419\n",
      "Epoch [2/2], Step [600/1100], Loss: 0.0004\n",
      "Epoch [2/2], Step [700/1100], Loss: 0.0025\n",
      "Epoch [2/2], Step [800/1100], Loss: 0.0044\n",
      "Epoch [2/2], Step [900/1100], Loss: 0.0005\n",
      "Epoch [2/2], Step [1000/1100], Loss: 0.0014\n",
      "Epoch [2/2], Step [1100/1100], Loss: 0.0637\n"
     ]
    }
   ],
   "source": [
    "# Train the model\n",
    "total_step = vars_.shape[0]\n",
    "loss_list = []\n",
    "acc_list = []\n",
    "for epoch in range(num_epochs):\n",
    "#     for i, (images, labels) in enumerate(train_loader):\n",
    "#         # Run the forward pass\n",
    "#         images = Variable(images.float())\n",
    "#         labels = Variable(labels)\n",
    "#         outputs = model(images)\n",
    "    for i in range(vars_.shape[0]):\n",
    "        images = torch.from_numpy(resulting_brains[i].reshape(1, 1, 64, 64))\n",
    "        images = Variable(images.float())\n",
    "\n",
    "        labels = torch.from_numpy(vars_[i])\n",
    "#         labels = Variable(labels.float())\n",
    "#         labels = labels.float()\n",
    "        outputs = model(images)\n",
    "#         print('Out:', outputs)\n",
    "#         print('Lab:', labels)\n",
    "        loss = criterion(outputs, labels.float())\n",
    "#         print('Loss:', loss)\n",
    "        loss_list.append(loss.item())\n",
    "\n",
    "        # Backprop and perform Adam optimisation\n",
    "        optimizer.zero_grad()\n",
    "        loss.backward(retain_graph=True)\n",
    "        optimizer.step()\n",
    "\n",
    "#         # Track the accuracy\n",
    "#         total = labels.size(0)\n",
    "#         _, predicted = torch.max(outputs.data, 1)\n",
    "#         correct = (predicted == labels).sum().item()\n",
    "#         acc_list.append(correct / total)\n",
    "\n",
    "        if (i + 1) % 100 == 0:\n",
    "            print('Epoch [{}/{}], Step [{}/{}], Loss: {:.4f}'\n",
    "                  .format(epoch + 1, num_epochs, i + 1, total_step, loss.item()))"
   ]
  },
  {
   "cell_type": "code",
   "execution_count": 16,
   "metadata": {
    "collapsed": true
   },
   "outputs": [],
   "source": [
    "resulting_brains_test = []\n",
    "vars_test= []\n",
    "\n",
    "brains_test = []\n",
    "for i in range(len(brains), len(brains)+10):\n",
    "    with h5py.File('../Brains/%s.mat' %i, 'r') as f:\n",
    "#         print(list(f.keys()))\n",
    "#         print(list(f['cjdata'].keys()))\n",
    "        brain = np.array(f['cjdata']['image'])\n",
    "        brain = brain[::8, ::8]\n",
    "        brains_test += [brain]\n",
    "\n",
    "for l in range(len(brains_test)):\n",
    "    test_brain = brains_test[l]/1000\n",
    "    resulting_brains_test.append(test_brain)\n",
    "    vars_test.append(0)\n",
    "    for i in range(10):\n",
    "        var = 0\n",
    "        changed_brain = np.copy(test_brain)\n",
    "        for j in range(64):\n",
    "            for k in range(64):\n",
    "                value = changed_brain[k][j]\n",
    "                add = np.random.randint(max(-value, -1000+100*i), 1000-100*i)/1000\n",
    "                #print(changed_brain[k][j])\n",
    "                changed_brain[k][j] = value + add\n",
    "                #print(changed_brain[k][j])\n",
    "\n",
    "                var = var + add/1000\n",
    "        resulting_brains_test.append(changed_brain)\n",
    "        vars_test.append(var)"
   ]
  },
  {
   "cell_type": "code",
   "execution_count": 17,
   "metadata": {},
   "outputs": [
    {
     "name": "stdout",
     "output_type": "stream",
     "text": [
      "OUT tensor(0.1845) REAL 0\n",
      "OUT tensor(1.7600) REAL 2.0207189999999913\n",
      "OUT tensor(1.6139) REAL 1.851026000000002\n",
      "OUT tensor(1.4118) REAL 1.6287540000000011\n",
      "OUT tensor(1.2259) REAL 1.433189999999999\n",
      "OUT tensor(1.0777) REAL 1.239981000000002\n",
      "OUT tensor(0.9053) REAL 1.0180500000000006\n",
      "OUT tensor(0.7174) REAL 0.8015870000000005\n",
      "OUT tensor(0.5556) REAL 0.6094280000000017\n",
      "OUT tensor(0.4003) REAL 0.40654499999999927\n",
      "OUT tensor(0.2860) REAL 0.20621000000000128\n",
      "OUT tensor(0.2098) REAL 0\n",
      "OUT tensor(1.8171) REAL 2.041312\n",
      "OUT tensor(1.6276) REAL 1.876362999999998\n",
      "OUT tensor(1.4737) REAL 1.6220210000000044\n",
      "OUT tensor(1.3128) REAL 1.4487199999999976\n",
      "OUT tensor(1.1019) REAL 1.2390359999999985\n",
      "OUT tensor(0.9288) REAL 1.0156530000000001\n",
      "OUT tensor(0.7541) REAL 0.8209329999999966\n",
      "OUT tensor(0.5915) REAL 0.6128819999999989\n",
      "OUT tensor(0.4380) REAL 0.4119810000000003\n",
      "OUT tensor(0.3093) REAL 0.19950200000000026\n",
      "OUT tensor(0.3192) REAL 0\n",
      "OUT tensor(1.9085) REAL 2.0448070000000036\n",
      "OUT tensor(1.7279) REAL 1.855274000000003\n",
      "OUT tensor(1.5506) REAL 1.6414240000000013\n",
      "OUT tensor(1.3768) REAL 1.432807999999996\n",
      "OUT tensor(1.2090) REAL 1.2342170000000015\n",
      "OUT tensor(1.0239) REAL 1.008053999999999\n",
      "OUT tensor(0.8321) REAL 0.8122630000000008\n",
      "OUT tensor(0.6748) REAL 0.6068850000000006\n",
      "OUT tensor(0.5389) REAL 0.4129900000000013\n",
      "OUT tensor(0.4147) REAL 0.20099700000000081\n",
      "OUT tensor(0.2554) REAL 0\n",
      "OUT tensor(1.8660) REAL 2.051621000000001\n",
      "OUT tensor(1.7026) REAL 1.8579270000000045\n",
      "OUT tensor(1.4898) REAL 1.6316260000000027\n",
      "OUT tensor(1.3114) REAL 1.4387520000000003\n",
      "OUT tensor(1.1321) REAL 1.2171110000000014\n",
      "OUT tensor(0.9981) REAL 1.0392039999999996\n",
      "OUT tensor(0.7746) REAL 0.8233010000000012\n",
      "OUT tensor(0.6463) REAL 0.6090589999999987\n",
      "OUT tensor(0.4817) REAL 0.40630500000000025\n",
      "OUT tensor(0.3524) REAL 0.19932100000000075\n",
      "OUT tensor(0.) REAL 0\n",
      "OUT tensor(1.6342) REAL 2.046723000000003\n",
      "OUT tensor(1.4495) REAL 1.8492810000000022\n",
      "OUT tensor(1.2341) REAL 1.6292409999999962\n",
      "OUT tensor(1.0875) REAL 1.4280260000000011\n",
      "OUT tensor(0.8972) REAL 1.2149119999999998\n",
      "OUT tensor(0.6997) REAL 1.0162679999999988\n",
      "OUT tensor(0.5313) REAL 0.8269269999999993\n",
      "OUT tensor(0.3395) REAL 0.6071769999999996\n",
      "OUT tensor(0.1726) REAL 0.40433199999999975\n",
      "OUT tensor(0.0446) REAL 0.20422000000000123\n",
      "OUT tensor(0.) REAL 0\n",
      "OUT tensor(1.6680) REAL 2.058003000000003\n",
      "OUT tensor(1.4726) REAL 1.8390970000000013\n",
      "OUT tensor(1.2862) REAL 1.651826999999999\n",
      "OUT tensor(1.0976) REAL 1.436745000000001\n",
      "OUT tensor(0.9218) REAL 1.227653000000004\n",
      "OUT tensor(0.7339) REAL 1.0243419999999996\n",
      "OUT tensor(0.5464) REAL 0.8198229999999989\n",
      "OUT tensor(0.3611) REAL 0.6127130000000023\n",
      "OUT tensor(0.2081) REAL 0.41099700000000017\n",
      "OUT tensor(0.0713) REAL 0.20279400000000067\n",
      "OUT tensor(0.) REAL 0\n",
      "OUT tensor(1.6945) REAL 2.060002000000002\n",
      "OUT tensor(1.5140) REAL 1.850679000000001\n",
      "OUT tensor(1.2954) REAL 1.642486000000001\n",
      "OUT tensor(1.0994) REAL 1.422607000000002\n",
      "OUT tensor(0.9555) REAL 1.2285520000000008\n",
      "OUT tensor(0.7283) REAL 1.0067460000000021\n",
      "OUT tensor(0.5638) REAL 0.8204520000000013\n",
      "OUT tensor(0.3761) REAL 0.6124250000000008\n",
      "OUT tensor(0.2158) REAL 0.4071329999999995\n",
      "OUT tensor(0.0759) REAL 0.19875200000000112\n",
      "OUT tensor(0.) REAL 0\n",
      "OUT tensor(1.6584) REAL 2.078509000000002\n",
      "OUT tensor(1.4385) REAL 1.821491000000002\n",
      "OUT tensor(1.3055) REAL 1.6237879999999985\n",
      "OUT tensor(1.1419) REAL 1.4521869999999952\n",
      "OUT tensor(0.9461) REAL 1.2419370000000032\n",
      "OUT tensor(0.7359) REAL 1.0094820000000015\n",
      "OUT tensor(0.5650) REAL 0.8210349999999987\n",
      "OUT tensor(0.3698) REAL 0.6117339999999986\n",
      "OUT tensor(0.2092) REAL 0.41167900000000024\n",
      "OUT tensor(0.0738) REAL 0.20326700000000056\n",
      "OUT tensor(0.0304) REAL 0\n",
      "OUT tensor(1.7485) REAL 2.073966999999997\n",
      "OUT tensor(1.5566) REAL 1.8752270000000035\n",
      "OUT tensor(1.3404) REAL 1.6099900000000007\n",
      "OUT tensor(1.1391) REAL 1.405527000000005\n",
      "OUT tensor(0.9732) REAL 1.222555000000003\n",
      "OUT tensor(0.7866) REAL 1.0079530000000012\n",
      "OUT tensor(0.6098) REAL 0.8254950000000014\n",
      "OUT tensor(0.4278) REAL 0.6113450000000011\n",
      "OUT tensor(0.2604) REAL 0.40202100000000024\n",
      "OUT tensor(0.1287) REAL 0.200798000000001\n",
      "OUT tensor(0.0953) REAL 0\n",
      "OUT tensor(1.7398) REAL 2.015444999999996\n",
      "OUT tensor(1.5607) REAL 1.797219000000004\n",
      "OUT tensor(1.4117) REAL 1.6339210000000022\n",
      "OUT tensor(1.1992) REAL 1.4200139999999988\n",
      "OUT tensor(1.0308) REAL 1.2379620000000031\n",
      "OUT tensor(0.8630) REAL 1.0229589999999986\n",
      "OUT tensor(0.6693) REAL 0.8121730000000004\n",
      "OUT tensor(0.4922) REAL 0.6118559999999972\n",
      "OUT tensor(0.3298) REAL 0.40981100000000054\n",
      "OUT tensor(0.1909) REAL 0.20188200000000123\n"
     ]
    }
   ],
   "source": [
    "# Test the model\n",
    "model.eval()\n",
    "with torch.no_grad():\n",
    "#     for images, labels in test_loader:\n",
    "   for i in range(len(vars_test)):\n",
    "        images = torch.from_numpy(resulting_brains_test[i].reshape(1, 1, 64, 64))\n",
    "        images = Variable(images.float())\n",
    "        outputs = model(images)\n",
    "          \n",
    "        print('OUT', outputs.data[0][0], 'REAL', vars_test[i])"
   ]
  },
  {
   "cell_type": "code",
   "execution_count": 19,
   "metadata": {},
   "outputs": [
    {
     "name": "stdout",
     "output_type": "stream",
     "text": [
      "tensor([[1.0777]], grad_fn=<ReluBackward0>)\n",
      "tensor([[1.0777]], grad_fn=<ReluBackward0>)\n",
      "tensor([[[[0.1710, 0.0210, 0.0000,  ..., 0.1860, 0.2200, 0.3020],\n",
      "          [0.5720, 0.3650, 0.1300,  ..., 0.0620, 0.3870, 0.5110],\n",
      "          [0.0430, 0.3530, 0.1340,  ..., 0.5310, 0.1780, 0.3300],\n",
      "          ...,\n",
      "          [0.2400, 0.2280, 0.2010,  ..., 0.4570, 0.4160, 0.2390],\n",
      "          [0.5950, 0.3330, 0.2310,  ..., 0.3310, 0.2910, 0.2740],\n",
      "          [0.5640, 0.2370, 0.2720,  ..., 0.2010, 0.1550, 0.0530]]]],\n",
      "       requires_grad=True)\n",
      "(tensor([[[[ 4.0392e-04, -9.8434e-04,  6.6965e-04,  ...,  6.4405e-04,\n",
      "           -8.0701e-04,  6.2893e-05],\n",
      "          [ 1.2792e-03,  7.0771e-04, -5.3178e-04,  ..., -2.0317e-03,\n",
      "            1.6572e-04,  5.3148e-04],\n",
      "          [ 1.7241e-04, -1.4357e-03, -6.0469e-04,  ...,  2.4508e-03,\n",
      "           -7.0479e-05,  2.0302e-03],\n",
      "          ...,\n",
      "          [ 8.4851e-04,  1.2267e-03, -1.7617e-03,  ...,  4.2838e-04,\n",
      "            3.3253e-03,  1.8172e-03],\n",
      "          [ 1.2884e-03,  1.4663e-03,  7.4377e-04,  ...,  1.8874e-03,\n",
      "           -5.2497e-04,  5.9727e-04],\n",
      "          [ 4.9149e-04, -2.6625e-04, -4.7183e-04,  ...,  4.6131e-04,\n",
      "           -3.0904e-04, -3.0283e-04]]]]),)\n"
     ]
    }
   ],
   "source": [
    "test_input = resulting_brains_test[5]\n",
    "test_input = torch.from_numpy(test_input.reshape(1, 1, 64, 64))\n",
    "# test_input.requires_grad = True\n",
    "# print()\n",
    "test_input = Variable(test_input.float(), requires_grad=True)\n",
    "test_output = model(test_input)  \n",
    "test_output.backward(retain_graph=True)\n",
    "print(test_output)\n",
    "# test_output = Variable(test_output, requires_grad=True)\n",
    "# test_output.requires_grad = True\n",
    "print(test_output)\n",
    "print(test_input)\n",
    "d = torch.autograd.grad(test_output, test_input, allow_unused=True)\n",
    "print(d)"
   ]
  },
  {
   "cell_type": "code",
   "execution_count": 21,
   "metadata": {},
   "outputs": [
    {
     "name": "stdout",
     "output_type": "stream",
     "text": [
      "torch.Size([1, 1, 64, 64])\n"
     ]
    }
   ],
   "source": [
    "print(d[0].shape)"
   ]
  },
  {
   "cell_type": "code",
   "execution_count": null,
   "metadata": {},
   "outputs": [],
   "source": [
    "# m = nn.Linear(2, 1)\n",
    "# inputa = torch.ones(1, 2)\n",
    "# inputa.requires_grad = True\n",
    "# output = m(inputa).sum()\n",
    "# output.backward(retain_graph=True)\n",
    "# print(inputa.grad.data)\n",
    "\n",
    "# print('INPUT:')\n",
    "# print(inputa)\n",
    "# print('OUTPUT:')\n",
    "# print(output)\n",
    "# print('LINEAR:')\n",
    "# print(m)\n",
    "# print('F(INPUT):', m(inputa))"
   ]
  },
  {
   "cell_type": "code",
   "execution_count": null,
   "metadata": {},
   "outputs": [],
   "source": [
    "# print(m.weight)\n",
    "# print(torch.autograd.grad(output, inputa))"
   ]
  },
  {
   "cell_type": "code",
   "execution_count": null,
   "metadata": {},
   "outputs": [],
   "source": [
    "# test_input = resulting_brains_test[0]\n",
    "# test_input = torch.from_numpy(test_input.reshape(1, 1, 64, 64))\n",
    "# # test_input.requires_grad = True\n",
    "# # print()\n",
    "# test_input = Variable(test_input.float())\n",
    "# test_output = model(test_input)  \n",
    "# test_output.backward()\n",
    "# print(test_output)\n",
    "# # test_output.requires_grad = True"
   ]
  },
  {
   "cell_type": "code",
   "execution_count": null,
   "metadata": {},
   "outputs": [],
   "source": [
    "print(test_input)"
   ]
  },
  {
   "cell_type": "code",
   "execution_count": null,
   "metadata": {},
   "outputs": [],
   "source": [
    "d = torch.autograd.grad(test_output, test_input)"
   ]
  },
  {
   "cell_type": "code",
   "execution_count": null,
   "metadata": {
    "collapsed": true
   },
   "outputs": [],
   "source": []
  }
 ],
 "metadata": {
  "kernelspec": {
   "display_name": "Python 3",
   "language": "python",
   "name": "python3"
  },
  "language_info": {
   "codemirror_mode": {
    "name": "ipython",
    "version": 3
   },
   "file_extension": ".py",
   "mimetype": "text/x-python",
   "name": "python",
   "nbconvert_exporter": "python",
   "pygments_lexer": "ipython3",
   "version": "3.6.2"
  }
 },
 "nbformat": 4,
 "nbformat_minor": 2
}
