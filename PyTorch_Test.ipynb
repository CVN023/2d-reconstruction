{
 "cells": [
  {
   "cell_type": "code",
   "execution_count": 1,
   "metadata": {
    "collapsed": true
   },
   "outputs": [],
   "source": [
    "import torch \n",
    "import torch.nn as nn\n",
    "import torchvision\n",
    "import torchvision.datasets as dsets\n",
    "from skimage import transform\n",
    "import torchvision.transforms as transforms\n",
    "from torch.autograd import Variable\n",
    "import pandas as pd;\n",
    "import numpy as np;\n",
    "from torch.utils.data import Dataset, DataLoader\n",
    "# from vis_utils import *\n",
    "import random\n",
    "import h5py\n",
    "import math\n",
    "import torch.nn.functional as F"
   ]
  },
  {
   "cell_type": "code",
   "execution_count": 2,
   "metadata": {
    "collapsed": true
   },
   "outputs": [],
   "source": [
    "# Hyperparameters\n",
    "num_epochs = 2\n",
    "num_classes = 10\n",
    "batch_size = 1\n",
    "learning_rate = 0.001\n",
    "\n",
    "DATA_PATH = 'MNIST'\n",
    "MODEL_STORE_PATH = 'pytorch_model\\\\'"
   ]
  },
  {
   "cell_type": "code",
   "execution_count": 3,
   "metadata": {},
   "outputs": [
    {
     "name": "stdout",
     "output_type": "stream",
     "text": [
      "Downloading http://yann.lecun.com/exdb/mnist/train-images-idx3-ubyte.gz\n",
      "Downloading http://yann.lecun.com/exdb/mnist/train-labels-idx1-ubyte.gz\n",
      "Downloading http://yann.lecun.com/exdb/mnist/t10k-images-idx3-ubyte.gz\n",
      "Downloading http://yann.lecun.com/exdb/mnist/t10k-labels-idx1-ubyte.gz\n",
      "Processing...\n",
      "Done!\n"
     ]
    }
   ],
   "source": [
    "# transforms to apply to the data\n",
    "trans = transforms.Compose([transforms.ToTensor(), transforms.Normalize((0.1307,), (0.3081,))])\n",
    "\n",
    "# MNIST dataset\n",
    "train_dataset = torchvision.datasets.MNIST(root=DATA_PATH, train=True, transform=trans, download=True)\n",
    "test_dataset = torchvision.datasets.MNIST(root=DATA_PATH, train=False, transform=trans)"
   ]
  },
  {
   "cell_type": "code",
   "execution_count": 4,
   "metadata": {
    "collapsed": true
   },
   "outputs": [],
   "source": [
    "# transforms to apply to the data\n",
    "trans = transforms.Compose([transforms.ToTensor(), transforms.Normalize((0.1307,), (0.3081,))])\n",
    "\n",
    "# MNIST dataset\n",
    "train_dataset = torchvision.datasets.MNIST(root=DATA_PATH, train=True, transform=trans, download=True)\n",
    "test_dataset = torchvision.datasets.MNIST(root=DATA_PATH, train=False, transform=trans)"
   ]
  },
  {
   "cell_type": "code",
   "execution_count": 5,
   "metadata": {
    "collapsed": true
   },
   "outputs": [],
   "source": [
    "train_loader = DataLoader(dataset=train_dataset, batch_size=batch_size, shuffle=True)\n",
    "test_loader = DataLoader(dataset=test_dataset, batch_size=batch_size, shuffle=False)"
   ]
  },
  {
   "cell_type": "code",
   "execution_count": 6,
   "metadata": {
    "collapsed": true
   },
   "outputs": [],
   "source": [
    "class ConvNet(nn.Module):\n",
    "    def __init__(self):\n",
    "        super(ConvNet, self).__init__()\n",
    "        self.layer1 = nn.Sequential(\n",
    "            nn.Conv2d(1, 32, kernel_size=5, stride=1, padding=2),\n",
    "            nn.ReLU(),\n",
    "            nn.MaxPool2d(kernel_size=2, stride=2))\n",
    "        self.layer2 = nn.Sequential(\n",
    "            nn.Conv2d(32, 64, kernel_size=5, stride=1, padding=2),\n",
    "            nn.ReLU(),\n",
    "            nn.MaxPool2d(kernel_size=2, stride=2))\n",
    "        self.drop_out = nn.Dropout()\n",
    "        self.fc1 = nn.Linear(16384, 1000)\n",
    "#         self.fc1 = nn.Linear(7 * 7 * 64, 1000)\n",
    "        self.fc2 = nn.Linear(1000, 1)\n",
    "        \n",
    "    def forward(self, x):\n",
    "        out = self.layer1(x)\n",
    "        out = self.layer2(out)\n",
    "        out = out.reshape(out.size(0), -1)\n",
    "        out = self.drop_out(out)\n",
    "#         print('shape, before fc1', out.shape)\n",
    "        out = self.fc1(out)\n",
    "#         out = self.fc2(out)\n",
    "        out = F.relu(self.fc2(out))\n",
    "        return out"
   ]
  },
  {
   "cell_type": "code",
   "execution_count": 7,
   "metadata": {
    "collapsed": true
   },
   "outputs": [],
   "source": [
    "model = ConvNet()\n",
    "\n",
    "# Loss and optimizer\n",
    "# criterion = nn.CrossEntropyLoss()\n",
    "# optimizer = torch.optim.Adam(model.parameters(), lr=learning_rate)\n",
    "\n",
    "optimizer = torch.optim.SGD(model.parameters(), lr=0.0001)\n",
    "criterion = nn.MSELoss()  # this is for regression mean squared loss"
   ]
  },
  {
   "cell_type": "code",
   "execution_count": 8,
   "metadata": {
    "collapsed": true
   },
   "outputs": [],
   "source": [
    "# # Train the model\n",
    "# total_step = len(train_loader)\n",
    "# loss_list = []\n",
    "# acc_list = []\n",
    "# for epoch in range(num_epochs):\n",
    "#     for i, (images, labels) in enumerate(train_loader):\n",
    "#         # Run the forward pass\n",
    "#         print(images.shape)\n",
    "#         images = Variable(images.float())\n",
    "#         print(images.shape)\n",
    "#         print(images.type)\n",
    "#         labels = Variable(labels)\n",
    "#         print('labels')\n",
    "#         print(labels)\n",
    "#         print(labels.shape)\n",
    "#         outputs = model(images)\n",
    "#         loss = loss_func(outputs, labels)\n",
    "#         loss_list.append(loss.item())\n",
    "\n",
    "#         # Backprop and perform Adam optimisation\n",
    "#         optimizer.zero_grad()\n",
    "#         loss.backward()\n",
    "#         optimizer.step()\n",
    "\n",
    "#         # Track the accuracy\n",
    "#         total = labels.size(0)\n",
    "#         _, predicted = torch.max(outputs.data, 1)\n",
    "#         correct = (predicted == labels).sum().item()\n",
    "#         acc_list.append(correct / total)\n",
    "\n",
    "#         if (i + 1) % 100 == 0:\n",
    "#             print('Epoch [{}/{}], Step [{}/{}], Loss: {:.4f}, Accuracy: {:.2f}%'\n",
    "#                   .format(epoch + 1, num_epochs, i + 1, total_step, loss.item(),\n",
    "#                           (correct / total) * 100))"
   ]
  },
  {
   "cell_type": "code",
   "execution_count": 9,
   "metadata": {
    "collapsed": true
   },
   "outputs": [],
   "source": [
    "# print('Here is the size of the input images:', images.shape)\n",
    "# print('Here is the size of the outputs:', outputs.shape)"
   ]
  },
  {
   "cell_type": "code",
   "execution_count": 10,
   "metadata": {
    "collapsed": true
   },
   "outputs": [],
   "source": [
    "import matplotlib.pyplot as plt\n",
    "from PIL import Image\n",
    "\n",
    "\n",
    "# plt.imshow(IMAGE)\n",
    "# plt.show()"
   ]
  },
  {
   "cell_type": "code",
   "execution_count": 11,
   "metadata": {
    "collapsed": true
   },
   "outputs": [],
   "source": [
    "number_brains_train = 100\n",
    "brains = []\n",
    "for i in range(1, 1+number_brains_train):\n",
    "    with h5py.File('../Brains/%s.mat' %i, 'r') as f:\n",
    "#         print(list(f.keys()))\n",
    "#         print(list(f['cjdata'].keys()))\n",
    "        brain = np.array(f['cjdata']['image'])\n",
    "        brain = brain[::8, ::8]\n",
    "        brains += [brain]\n",
    "\n",
    "# columns = 2\n",
    "# rows = 5\n",
    "\n",
    "# fig=plt.figure(figsize=(20, 20))\n",
    "# for i in range(1, 11):\n",
    "#     brain = brains[i-1]\n",
    "#     fig.add_subplot(rows, columns, i)\n",
    "#     plt.imshow(brain)\n",
    "# plt.show()\n"
   ]
  },
  {
   "cell_type": "code",
   "execution_count": 12,
   "metadata": {
    "collapsed": true
   },
   "outputs": [],
   "source": [
    "resulting_brains = []\n",
    "vars_ = []\n",
    "number_brains_blurried = 10\n",
    "\n",
    "for l in range(len(brains)):\n",
    "    test_brain = brains[l]/1000\n",
    "    resulting_brains.append(test_brain)\n",
    "    vars_.append(0)\n",
    "    for i in range(number_brains_blurried):\n",
    "        var = 0\n",
    "        changed_brain = np.copy(test_brain)\n",
    "        for j in range(64):\n",
    "            for k in range(64):\n",
    "                value = changed_brain[k][j]\n",
    "                add = np.random.randint(max(-value, -1000+100*i), 1000-100*i)/1000\n",
    "                #print(changed_brain[k][j])\n",
    "                changed_brain[k][j] = value + add\n",
    "                #print(changed_brain[k][j])\n",
    "\n",
    "                var = var + add/1000\n",
    "        resulting_brains.append(changed_brain)\n",
    "        vars_.append(var)"
   ]
  },
  {
   "cell_type": "code",
   "execution_count": 13,
   "metadata": {},
   "outputs": [
    {
     "name": "stdout",
     "output_type": "stream",
     "text": [
      "1100\n",
      "1100\n",
      "0.001454\n"
     ]
    }
   ],
   "source": [
    "print(len(vars_))\n",
    "print(len(resulting_brains))\n",
    "\n",
    "print((test_brain/1000)[32][32])"
   ]
  },
  {
   "cell_type": "code",
   "execution_count": 14,
   "metadata": {},
   "outputs": [
    {
     "name": "stdout",
     "output_type": "stream",
     "text": [
      "1100 (1100, 1)\n"
     ]
    }
   ],
   "source": [
    "# labels_ = np.random.randint(1, 10, 10).reshape(10, 1)\n",
    "# print(np.array(brains).shape)\n",
    "# brains = np.array(brains).reshape(10, 1, 64, 64)\n",
    "# print(labels_.shape, brains.shape)\n",
    "# print(labels_)\n",
    "\n",
    "vars_ = np.array(vars_).reshape(number_brains_train*(number_brains_blurried+1), 1)\n",
    "resulting_brains = np.array(resulting_brains).reshape(number_brains_train*(number_brains_blurried+1), 1, 64, 64)\n",
    "\n",
    "print(vars_.shape[0], vars_.shape)"
   ]
  },
  {
   "cell_type": "code",
   "execution_count": 15,
   "metadata": {},
   "outputs": [
    {
     "name": "stdout",
     "output_type": "stream",
     "text": [
      "Epoch [1/2], Step [100/1100], Loss: 0.3288\n",
      "Epoch [1/2], Step [200/1100], Loss: 0.3749\n",
      "Epoch [1/2], Step [300/1100], Loss: 0.0549\n",
      "Epoch [1/2], Step [400/1100], Loss: 0.0930\n",
      "Epoch [1/2], Step [500/1100], Loss: 0.0420\n",
      "Epoch [1/2], Step [600/1100], Loss: 0.0246\n",
      "Epoch [1/2], Step [700/1100], Loss: 0.0000\n",
      "Epoch [1/2], Step [800/1100], Loss: 0.0055\n",
      "Epoch [1/2], Step [900/1100], Loss: 0.0515\n",
      "Epoch [1/2], Step [1000/1100], Loss: 0.0005\n",
      "Epoch [1/2], Step [1100/1100], Loss: 0.0994\n",
      "Epoch [2/2], Step [100/1100], Loss: 0.0411\n",
      "Epoch [2/2], Step [200/1100], Loss: 0.0289\n",
      "Epoch [2/2], Step [300/1100], Loss: 0.0306\n",
      "Epoch [2/2], Step [400/1100], Loss: 0.0071\n",
      "Epoch [2/2], Step [500/1100], Loss: 0.1171\n",
      "Epoch [2/2], Step [600/1100], Loss: 0.0006\n",
      "Epoch [2/2], Step [700/1100], Loss: 0.0001\n",
      "Epoch [2/2], Step [800/1100], Loss: 0.0187\n",
      "Epoch [2/2], Step [900/1100], Loss: 0.0439\n",
      "Epoch [2/2], Step [1000/1100], Loss: 0.0009\n",
      "Epoch [2/2], Step [1100/1100], Loss: 0.0167\n"
     ]
    }
   ],
   "source": [
    "# Train the model\n",
    "total_step = vars_.shape[0]\n",
    "loss_list = []\n",
    "acc_list = []\n",
    "for epoch in range(num_epochs):\n",
    "#     for i, (images, labels) in enumerate(train_loader):\n",
    "#         # Run the forward pass\n",
    "#         images = Variable(images.float())\n",
    "#         labels = Variable(labels)\n",
    "#         outputs = model(images)\n",
    "    for i in range(vars_.shape[0]):\n",
    "        images = torch.from_numpy(resulting_brains[i].reshape(1, 1, 64, 64))\n",
    "        images = Variable(images.float())\n",
    "\n",
    "        labels = torch.from_numpy(vars_[i])\n",
    "#         labels = Variable(labels.float())\n",
    "#         labels = labels.float()\n",
    "        outputs = model(images)\n",
    "#         print('Out:', outputs)\n",
    "#         print('Lab:', labels)\n",
    "        loss = criterion(outputs, labels.float())\n",
    "#         print('Loss:', loss)\n",
    "        loss_list.append(loss.item())\n",
    "\n",
    "        # Backprop and perform Adam optimisation\n",
    "        optimizer.zero_grad()\n",
    "        loss.backward(retain_graph=True)\n",
    "        optimizer.step()\n",
    "\n",
    "#         # Track the accuracy\n",
    "#         total = labels.size(0)\n",
    "#         _, predicted = torch.max(outputs.data, 1)\n",
    "#         correct = (predicted == labels).sum().item()\n",
    "#         acc_list.append(correct / total)\n",
    "\n",
    "        if (i + 1) % 100 == 0:\n",
    "            print('Epoch [{}/{}], Step [{}/{}], Loss: {:.4f}'\n",
    "                  .format(epoch + 1, num_epochs, i + 1, total_step, loss.item()))"
   ]
  },
  {
   "cell_type": "code",
   "execution_count": 16,
   "metadata": {
    "collapsed": true
   },
   "outputs": [],
   "source": [
    "resulting_brains_test = []\n",
    "vars_test= []\n",
    "\n",
    "brains_test = []\n",
    "for i in range(len(brains), len(brains)+10):\n",
    "    with h5py.File('../Brains/%s.mat' %i, 'r') as f:\n",
    "#         print(list(f.keys()))\n",
    "#         print(list(f['cjdata'].keys()))\n",
    "        brain = np.array(f['cjdata']['image'])\n",
    "        brain = brain[::8, ::8]\n",
    "        brains_test += [brain]\n",
    "\n",
    "for l in range(len(brains_test)):\n",
    "    test_brain = brains_test[l]/1000\n",
    "    resulting_brains_test.append(test_brain)\n",
    "    vars_test.append(0)\n",
    "    for i in range(10):\n",
    "        var = 0\n",
    "        changed_brain = np.copy(test_brain)\n",
    "        for j in range(64):\n",
    "            for k in range(64):\n",
    "                value = changed_brain[k][j]\n",
    "                add = np.random.randint(max(-value, -1000+100*i), 1000-100*i)/1000\n",
    "                #print(changed_brain[k][j])\n",
    "                changed_brain[k][j] = value + add\n",
    "                #print(changed_brain[k][j])\n",
    "\n",
    "                var = var + add/1000\n",
    "        resulting_brains_test.append(changed_brain)\n",
    "        vars_test.append(var)"
   ]
  },
  {
   "cell_type": "code",
   "execution_count": 17,
   "metadata": {},
   "outputs": [
    {
     "name": "stdout",
     "output_type": "stream",
     "text": [
      "OUT tensor(0.1301) REAL 0\n",
      "OUT tensor(1.8057) REAL 1.9930359999999991\n",
      "OUT tensor(1.6535) REAL 1.863992999999999\n",
      "OUT tensor(1.4577) REAL 1.6262969999999954\n",
      "OUT tensor(1.2707) REAL 1.4435600000000008\n",
      "OUT tensor(1.0702) REAL 1.2258549999999997\n",
      "OUT tensor(0.9045) REAL 1.0263440000000008\n",
      "OUT tensor(0.7217) REAL 0.8181900000000005\n",
      "OUT tensor(0.5394) REAL 0.6080530000000006\n",
      "OUT tensor(0.3819) REAL 0.41228499999999907\n",
      "OUT tensor(0.2367) REAL 0.20001200000000102\n",
      "OUT tensor(0.1735) REAL 0\n",
      "OUT tensor(1.8886) REAL 2.051161000000005\n",
      "OUT tensor(1.6667) REAL 1.8556510000000008\n",
      "OUT tensor(1.4847) REAL 1.637795999999997\n",
      "OUT tensor(1.3230) REAL 1.4244410000000005\n",
      "OUT tensor(1.1362) REAL 1.230541000000003\n",
      "OUT tensor(0.9391) REAL 1.020241999999999\n",
      "OUT tensor(0.7687) REAL 0.8197749999999995\n",
      "OUT tensor(0.5908) REAL 0.6073859999999999\n",
      "OUT tensor(0.4218) REAL 0.4096370000000003\n",
      "OUT tensor(0.2827) REAL 0.199753000000001\n",
      "OUT tensor(0.2144) REAL 0\n",
      "OUT tensor(1.9166) REAL 2.042076999999997\n",
      "OUT tensor(1.7553) REAL 1.850691000000002\n",
      "OUT tensor(1.5155) REAL 1.662950000000004\n",
      "OUT tensor(1.3733) REAL 1.4510300000000023\n",
      "OUT tensor(1.1833) REAL 1.2279000000000009\n",
      "OUT tensor(0.9824) REAL 1.0112029999999999\n",
      "OUT tensor(0.8010) REAL 0.8109009999999995\n",
      "OUT tensor(0.6167) REAL 0.6099439999999993\n",
      "OUT tensor(0.4635) REAL 0.40460599999999997\n",
      "OUT tensor(0.3284) REAL 0.20018100000000086\n",
      "OUT tensor(0.2004) REAL 0\n",
      "OUT tensor(1.9033) REAL 2.058488000000002\n",
      "OUT tensor(1.7148) REAL 1.8380310000000089\n",
      "OUT tensor(1.5393) REAL 1.6453949999999997\n",
      "OUT tensor(1.3435) REAL 1.4156099999999965\n",
      "OUT tensor(1.1542) REAL 1.2466769999999978\n",
      "OUT tensor(0.9743) REAL 1.0152700000000026\n",
      "OUT tensor(0.7855) REAL 0.8138349999999984\n",
      "OUT tensor(0.6122) REAL 0.5987180000000001\n",
      "OUT tensor(0.4478) REAL 0.40783399999999986\n",
      "OUT tensor(0.3107) REAL 0.20055000000000112\n",
      "OUT tensor(0.) REAL 0\n",
      "OUT tensor(1.6551) REAL 2.0218519999999987\n",
      "OUT tensor(1.4656) REAL 1.8503750000000012\n",
      "OUT tensor(1.3011) REAL 1.6434329999999973\n",
      "OUT tensor(1.1063) REAL 1.4535240000000027\n",
      "OUT tensor(0.9155) REAL 1.2246180000000026\n",
      "OUT tensor(0.7188) REAL 1.0231809999999986\n",
      "OUT tensor(0.5386) REAL 0.8106869999999985\n",
      "OUT tensor(0.3245) REAL 0.6081399999999995\n",
      "OUT tensor(0.1487) REAL 0.4052869999999998\n",
      "OUT tensor(0.0003) REAL 0.20330600000000104\n",
      "OUT tensor(0.) REAL 0\n",
      "OUT tensor(1.6344) REAL 2.0441800000000017\n",
      "OUT tensor(1.4663) REAL 1.8419360000000016\n",
      "OUT tensor(1.2243) REAL 1.5986340000000028\n",
      "OUT tensor(1.0600) REAL 1.4246549999999958\n",
      "OUT tensor(0.8780) REAL 1.2361660000000003\n",
      "OUT tensor(0.6854) REAL 1.031730999999999\n",
      "OUT tensor(0.4982) REAL 0.813823999999998\n",
      "OUT tensor(0.3261) REAL 0.6091670000000007\n",
      "OUT tensor(0.1377) REAL 0.4008659999999993\n",
      "OUT tensor(0.) REAL 0.20030800000000074\n",
      "OUT tensor(0.) REAL 0\n",
      "OUT tensor(1.6567) REAL 2.052853000000007\n",
      "OUT tensor(1.4679) REAL 1.875392000000002\n",
      "OUT tensor(1.3078) REAL 1.6505300000000034\n",
      "OUT tensor(1.0922) REAL 1.4513729999999994\n",
      "OUT tensor(0.8911) REAL 1.2298290000000014\n",
      "OUT tensor(0.6739) REAL 1.017958999999998\n",
      "OUT tensor(0.4774) REAL 0.8127570000000002\n",
      "OUT tensor(0.2926) REAL 0.6122080000000004\n",
      "OUT tensor(0.1160) REAL 0.4055300000000001\n",
      "OUT tensor(0.) REAL 0.20353500000000152\n",
      "OUT tensor(0.) REAL 0\n",
      "OUT tensor(1.6854) REAL 2.049960000000002\n",
      "OUT tensor(1.4823) REAL 1.840734999999996\n",
      "OUT tensor(1.2956) REAL 1.6408759999999993\n",
      "OUT tensor(1.1069) REAL 1.4456309999999992\n",
      "OUT tensor(0.9186) REAL 1.2277099999999987\n",
      "OUT tensor(0.7375) REAL 1.042919999999998\n",
      "OUT tensor(0.5321) REAL 0.8190939999999993\n",
      "OUT tensor(0.3369) REAL 0.6095699999999975\n",
      "OUT tensor(0.1651) REAL 0.4044150000000001\n",
      "OUT tensor(0.0187) REAL 0.2025840000000006\n",
      "OUT tensor(0.) REAL 0\n",
      "OUT tensor(1.7429) REAL 2.04478\n",
      "OUT tensor(1.5381) REAL 1.8440839999999994\n",
      "OUT tensor(1.3241) REAL 1.6237580000000018\n",
      "OUT tensor(1.1316) REAL 1.4439790000000015\n",
      "OUT tensor(0.9550) REAL 1.2444410000000066\n",
      "OUT tensor(0.7329) REAL 1.0094100000000006\n",
      "OUT tensor(0.5629) REAL 0.8240009999999984\n",
      "OUT tensor(0.3733) REAL 0.6194730000000006\n",
      "OUT tensor(0.1938) REAL 0.4074879999999988\n",
      "OUT tensor(0.0388) REAL 0.2033530000000009\n",
      "OUT tensor(0.) REAL 0\n",
      "OUT tensor(1.7053) REAL 2.030791999999999\n",
      "OUT tensor(1.5743) REAL 1.8474769999999994\n",
      "OUT tensor(1.3721) REAL 1.6466759999999976\n",
      "OUT tensor(1.1802) REAL 1.410309000000001\n",
      "OUT tensor(0.9718) REAL 1.236375000000001\n",
      "OUT tensor(0.7562) REAL 1.018495999999999\n",
      "OUT tensor(0.5897) REAL 0.8185489999999999\n",
      "OUT tensor(0.4050) REAL 0.6187339999999985\n",
      "OUT tensor(0.2193) REAL 0.4098790000000003\n",
      "OUT tensor(0.0780) REAL 0.2019450000000013\n"
     ]
    }
   ],
   "source": [
    "# Test the model\n",
    "model.eval()\n",
    "with torch.no_grad():\n",
    "#     for images, labels in test_loader:\n",
    "   for i in range(len(vars_test)):\n",
    "        images = torch.from_numpy(resulting_brains_test[i].reshape(1, 1, 64, 64))\n",
    "        images = Variable(images.float())\n",
    "        outputs = model(images)\n",
    "          \n",
    "        print('OUT', outputs.data[0][0], 'REAL', vars_test[i])"
   ]
  },
  {
   "cell_type": "code",
   "execution_count": 18,
   "metadata": {},
   "outputs": [
    {
     "name": "stdout",
     "output_type": "stream",
     "text": [
      "tensor([[1.0702]], grad_fn=<ReluBackward0>)\n",
      "tensor([[1.0702]], grad_fn=<ReluBackward0>)\n",
      "tensor([[[[0.4740, 0.2880, 0.2580,  ..., 0.1320, 0.3230, 0.5570],\n",
      "          [0.5440, 0.1980, 0.2510,  ..., 0.4250, 0.1070, 0.5490],\n",
      "          [0.1140, 0.4980, 0.1850,  ..., 0.3090, 0.3910, 0.3130],\n",
      "          ...,\n",
      "          [0.1830, 0.5200, 0.4660,  ..., 0.4280, 0.2630, 0.2970],\n",
      "          [0.2250, 0.5750, 0.4790,  ..., 0.3520, 0.4760, 0.0240],\n",
      "          [0.5610, 0.0970, 0.3480,  ..., 0.5670, 0.2190, 0.3530]]]],\n",
      "       requires_grad=True)\n",
      "(tensor([[[[ 1.0087e-03, -1.0508e-03, -4.2350e-04,  ..., -2.7500e-04,\n",
      "            2.6037e-04,  5.0147e-04],\n",
      "          [ 1.8726e-03, -5.6468e-04, -2.3130e-04,  ...,  1.1668e-03,\n",
      "            2.1763e-04,  9.2617e-04],\n",
      "          [-1.1251e-03,  1.1864e-03, -1.8529e-04,  ...,  1.7876e-03,\n",
      "            1.6513e-03,  4.9165e-04],\n",
      "          ...,\n",
      "          [-6.2724e-04,  2.5837e-03,  1.2068e-03,  ...,  1.8122e-03,\n",
      "            1.0084e-03, -8.4037e-04],\n",
      "          [-8.7569e-04,  1.6017e-03,  1.5672e-03,  ...,  5.1092e-04,\n",
      "            6.6478e-04, -5.9151e-05],\n",
      "          [ 7.0002e-04, -1.8421e-04, -8.5061e-05,  ...,  2.2075e-03,\n",
      "           -2.8851e-04,  7.0072e-04]]]]),)\n"
     ]
    }
   ],
   "source": [
    "test_input = resulting_brains_test[5]\n",
    "test_input = torch.from_numpy(test_input.reshape(1, 1, 64, 64))\n",
    "# test_input.requires_grad = True\n",
    "# print()\n",
    "test_input = Variable(test_input.float(), requires_grad=True)\n",
    "test_output = model(test_input)  \n",
    "test_output.backward(retain_graph=True)\n",
    "print(test_output)\n",
    "# test_output = Variable(test_output, requires_grad=True)\n",
    "# test_output.requires_grad = True\n",
    "print(test_output)\n",
    "print(test_input)\n",
    "d = torch.autograd.grad(test_output, test_input, allow_unused=True)\n",
    "print(d)"
   ]
  },
  {
   "cell_type": "code",
   "execution_count": 19,
   "metadata": {},
   "outputs": [
    {
     "name": "stdout",
     "output_type": "stream",
     "text": [
      "torch.Size([1, 1, 64, 64])\n"
     ]
    }
   ],
   "source": [
    "print(d[0].shape)"
   ]
  },
  {
   "cell_type": "code",
   "execution_count": 20,
   "metadata": {
    "collapsed": true
   },
   "outputs": [],
   "source": [
    "# m = nn.Linear(2, 1)\n",
    "# inputa = torch.ones(1, 2)\n",
    "# inputa.requires_grad = True\n",
    "# output = m(inputa).sum()\n",
    "# output.backward(retain_graph=True)\n",
    "# print(inputa.grad.data)\n",
    "\n",
    "# print('INPUT:')\n",
    "# print(inputa)\n",
    "# print('OUTPUT:')\n",
    "# print(output)\n",
    "# print('LINEAR:')\n",
    "# print(m)\n",
    "# print('F(INPUT):', m(inputa))"
   ]
  },
  {
   "cell_type": "code",
   "execution_count": 21,
   "metadata": {
    "collapsed": true
   },
   "outputs": [],
   "source": [
    "# print(m.weight)\n",
    "# print(torch.autograd.grad(output, inputa))"
   ]
  },
  {
   "cell_type": "code",
   "execution_count": 22,
   "metadata": {
    "collapsed": true
   },
   "outputs": [],
   "source": [
    "# test_input = resulting_brains_test[0]\n",
    "# test_input = torch.from_numpy(test_input.reshape(1, 1, 64, 64))\n",
    "# # test_input.requires_grad = True\n",
    "# # print()\n",
    "# test_input = Variable(test_input.float())\n",
    "# test_output = model(test_input)  \n",
    "# test_output.backward()\n",
    "# print(test_output)\n",
    "# # test_output.requires_grad = True"
   ]
  },
  {
   "cell_type": "code",
   "execution_count": 23,
   "metadata": {
    "collapsed": true
   },
   "outputs": [],
   "source": [
    "# print(test_input)"
   ]
  },
  {
   "cell_type": "code",
   "execution_count": 24,
   "metadata": {
    "collapsed": true
   },
   "outputs": [],
   "source": [
    "# d = torch.autograd.grad(test_output, test_input)"
   ]
  },
  {
   "cell_type": "code",
   "execution_count": 25,
   "metadata": {},
   "outputs": [
    {
     "data": {
      "image/png": "[encoded data removed]",
      "text/plain": [
       "<Figure size 432x288 with 1 Axes>"
      ]
     },
     "metadata": {},
     "output_type": "display_data"
    }
   ],
   "source": [
    "# GRADIENT DESCENT\n",
    "\n",
    "with h5py.File('../Brains/%s.mat' %i, 'r') as f:\n",
    "    brain = np.array(f['cjdata']['image'])\n",
    "    brain = brain[::8, ::8]\n",
    "    image_to_reconstruct = brain\n",
    "\n",
    "plt.imshow(image_to_reconstruct)\n",
    "plt.show()"
   ]
  },
  {
   "cell_type": "code",
   "execution_count": 26,
   "metadata": {},
   "outputs": [
    {
     "name": "stdout",
     "output_type": "stream",
     "text": [
      "[[0. 0. 0. ... 0. 0. 0.]\n",
      " [0. 0. 0. ... 0. 0. 0.]\n",
      " [0. 0. 0. ... 0. 0. 0.]\n",
      " ...\n",
      " [0. 0. 0. ... 0. 0. 0.]\n",
      " [0. 0. 0. ... 0. 0. 0.]\n",
      " [0. 0. 0. ... 0. 0. 0.]]\n",
      "(8100, 4096)\n"
     ]
    }
   ],
   "source": [
    "import scipy.io\n",
    "mat_90 = scipy.io.loadmat('thinL64_90')\n",
    "print(mat_90['H'].todense())\n",
    "print(mat_90['H'].todense().shape)"
   ]
  },
  {
   "cell_type": "code",
   "execution_count": 27,
   "metadata": {},
   "outputs": [
    {
     "name": "stdout",
     "output_type": "stream",
     "text": [
      "(8100, 4096)\n"
     ]
    }
   ],
   "source": [
    "A_90 = mat_90['H'].todense()\n",
    "print(A_90.shape)"
   ]
  },
  {
   "cell_type": "code",
   "execution_count": 28,
   "metadata": {
    "collapsed": true
   },
   "outputs": [],
   "source": [
    "p_90 = np.transpose(np.matmul(A_90, image_to_reconstruct.flatten()))"
   ]
  },
  {
   "cell_type": "code",
   "execution_count": 29,
   "metadata": {},
   "outputs": [
    {
     "data": {
      "image/png": "[encoded data removed]",
      "text/plain": [
       "<Figure size 432x288 with 1 Axes>"
      ]
     },
     "metadata": {},
     "output_type": "display_data"
    }
   ],
   "source": [
    "plt.imshow(p_90.reshape(90, 90))    \n",
    "plt.show()"
   ]
  },
  {
   "cell_type": "code",
   "execution_count": 30,
   "metadata": {
    "collapsed": true
   },
   "outputs": [],
   "source": [
    "def f(x):\n",
    "    global A_90\n",
    "    p = np.transpose(np.matmul(A_90, np.transpose(x.flatten())))\n",
    "    return p.reshape(90, 90)\n",
    "\n",
    "def cost_function(x, y):\n",
    "    return np.linalg.norm(f(x)-y.reshape(90, 90))\n",
    "    \n",
    "def grad_cost_function(x, y):\n",
    "    global A_90\n",
    "    U1 = np.matmul(np.transpose(A_90), np.transpose(f(x).flatten()))\n",
    "#     print(y.flatten().shape)\n",
    "    U2 = np.matmul(np.transpose(A_90), np.transpose(y.flatten()))\n",
    "#     return (np.dot(np.transpose(A), f(x)) - np.dot(np.transpose(A), y))\n",
    "    return U1.reshape(64, 64) - U2.reshape(64, 64)\n"
   ]
  },
  {
   "cell_type": "code",
   "execution_count": 36,
   "metadata": {
    "collapsed": true
   },
   "outputs": [],
   "source": [
    "nn_importance = 1000\n",
    "\n",
    "def f(x):\n",
    "    global A_90\n",
    "    p = np.transpose(np.matmul(A_90, np.transpose(x.flatten())))\n",
    "    return p.reshape(90, 90)\n",
    "\n",
    "def cost_function_nn(x, y, nn_importance):\n",
    "#     global nn_importance\n",
    "    nn_input = torch.from_numpy((x/1000).reshape(1, 1, 64, 64))\n",
    "#     print(nn_input.view(1, 1, 64, 64).shape)\n",
    "    nn_input = Variable(nn_input.float(), requires_grad=True)\n",
    "    nn_output = model(nn_input.view(1, 1, 64, 64))\n",
    "#     print('xxx')\n",
    "#     print(np.linalg.norm(f(x)-y.reshape(90, 90)))\n",
    "#     print(nn_importance * nn_output[0][0])\n",
    "#     print('xxx')\n",
    "    return np.linalg.norm(f(x)-y.reshape(90, 90)) + nn_importance * nn_output[0][0]\n",
    "    \n",
    "def grad_cost_function_nn(x, y, nn_importance):\n",
    "    global A_90\n",
    "#     global nn_importance\n",
    "    U1 = np.matmul(np.transpose(A_90), np.transpose(f(x).flatten()))\n",
    "#     print(y.flatten().shape)\n",
    "    U2 = np.matmul(np.transpose(A_90), np.transpose(y.flatten()))\n",
    "#     return (np.dot(np.transpose(A), f(x)) - np.dot(np.transpose(A), y))\n",
    "\n",
    "    nn_input = torch.from_numpy((x/1000).reshape(1, 1, 64, 64))\n",
    "    nn_input = Variable(nn_input.float(), requires_grad=True)\n",
    "    nn_output = model(nn_input.view(1, 1, 64, 64))\n",
    "    nn_output.backward(retain_graph=True)\n",
    "    d = torch.autograd.grad(nn_output, nn_input, allow_unused=True)\n",
    "#     print(d[0].shape)\n",
    "    if d[0].shape == torch.Size([1, 1, 64, 64]):\n",
    "        d = d[0][0][0]\n",
    "    else:\n",
    "        d = d[0]\n",
    "    return U1.reshape(64, 64) - U2.reshape(64, 64) + nn_importance * d.numpy()\n"
   ]
  },
  {
   "cell_type": "code",
   "execution_count": 43,
   "metadata": {},
   "outputs": [
    {
     "name": "stdout",
     "output_type": "stream",
     "text": [
      "___________________________\n",
      "tensor(1968910.5000, grad_fn=<AddBackward0>)\n",
      "1968852.6590856966\n",
      "0.0 % done\n",
      "___________________________\n",
      "tensor(302993.1875, grad_fn=<AddBackward0>)\n",
      "300788.19452587457\n",
      "1.0 % done\n",
      "___________________________\n",
      "tensor(174612.2969, grad_fn=<AddBackward0>)\n",
      "170038.55433111527\n",
      "2.0 % done\n",
      "___________________________\n",
      "tensor(132094.3281, grad_fn=<AddBackward0>)\n",
      "124760.6364143206\n",
      "3.0 % done\n",
      "___________________________\n",
      "tensor(109579.4922, grad_fn=<AddBackward0>)\n",
      "98906.01800658344\n",
      "4.0 % done\n",
      "___________________________\n",
      "tensor(95731.3672, grad_fn=<AddBackward0>)\n",
      "81279.54454890001\n",
      "5.0 % done\n",
      "___________________________\n",
      "tensor(86823.5703, grad_fn=<AddBackward0>)\n",
      "68362.57935196515\n",
      "6.0 % done\n",
      "___________________________\n",
      "tensor(81078.2812, grad_fn=<AddBackward0>)\n",
      "58491.08948203463\n",
      "7.000000000000001 % done\n",
      "___________________________\n",
      "tensor(77368., grad_fn=<AddBackward0>)\n",
      "50728.749327792706\n",
      "8.0 % done\n",
      "___________________________\n",
      "tensor(74868.6875, grad_fn=<AddBackward0>)\n",
      "44494.35258893341\n",
      "9.0 % done\n",
      "___________________________\n",
      "tensor(73069.8281, grad_fn=<AddBackward0>)\n",
      "39402.7198744535\n",
      "10.0 % done\n",
      "___________________________\n",
      "tensor(71846.6875, grad_fn=<AddBackward0>)\n",
      "35186.64584051706\n",
      "11.0 % done\n",
      "___________________________\n",
      "tensor(70930.5156, grad_fn=<AddBackward0>)\n",
      "31654.466177448514\n",
      "12.0 % done\n",
      "___________________________\n",
      "tensor(70177.2500, grad_fn=<AddBackward0>)\n",
      "28665.112085642453\n",
      "13.0 % done\n",
      "___________________________\n",
      "tensor(69444.9609, grad_fn=<AddBackward0>)\n",
      "26112.568370194218\n",
      "14.000000000000002 % done\n",
      "___________________________\n",
      "tensor(68793.9453, grad_fn=<AddBackward0>)\n",
      "23915.76075133966\n",
      "15.0 % done\n",
      "___________________________\n",
      "tensor(67942.2344, grad_fn=<AddBackward0>)\n",
      "22011.751287300867\n",
      "16.0 % done\n",
      "___________________________\n",
      "tensor(66860.0312, grad_fn=<AddBackward0>)\n",
      "20351.03452743888\n",
      "17.0 % done\n",
      "___________________________\n",
      "tensor(65612.7188, grad_fn=<AddBackward0>)\n",
      "18894.212151312655\n",
      "18.0 % done\n",
      "___________________________\n",
      "tensor(64253.5234, grad_fn=<AddBackward0>)\n",
      "17609.5968892723\n",
      "19.0 % done\n",
      "___________________________\n",
      "tensor(62634.0430, grad_fn=<AddBackward0>)\n",
      "16471.45734624895\n",
      "20.0 % done\n",
      "___________________________\n",
      "tensor(60886.9961, grad_fn=<AddBackward0>)\n",
      "15458.71360140688\n",
      "21.0 % done\n",
      "___________________________\n",
      "tensor(58797.6680, grad_fn=<AddBackward0>)\n",
      "14553.955328723076\n",
      "22.0 % done\n",
      "___________________________\n",
      "tensor(56444.2695, grad_fn=<AddBackward0>)\n",
      "13742.694173852695\n",
      "23.0 % done\n",
      "___________________________\n",
      "tensor(53951.2227, grad_fn=<AddBackward0>)\n",
      "13012.788564481862\n",
      "24.0 % done\n",
      "___________________________\n",
      "tensor(51379.0039, grad_fn=<AddBackward0>)\n",
      "12353.99697026896\n",
      "25.0 % done\n",
      "___________________________\n",
      "tensor(48476.6172, grad_fn=<AddBackward0>)\n",
      "11757.627881060751\n",
      "26.0 % done\n",
      "___________________________\n",
      "tensor(45346.7344, grad_fn=<AddBackward0>)\n",
      "11216.263323786332\n",
      "27.0 % done\n",
      "___________________________\n",
      "tensor(41901.8203, grad_fn=<AddBackward0>)\n",
      "10723.538793801565\n",
      "28.000000000000004 % done\n",
      "___________________________\n",
      "tensor(38198.7539, grad_fn=<AddBackward0>)\n",
      "10273.966820365658\n",
      "28.999999999999996 % done\n",
      "___________________________\n",
      "tensor(34260.6680, grad_fn=<AddBackward0>)\n",
      "9862.794539077573\n",
      "30.0 % done\n",
      "___________________________\n",
      "tensor(30074.9434, grad_fn=<AddBackward0>)\n",
      "9485.887957591987\n",
      "31.0 % done\n"
     ]
    },
    {
     "ename": "KeyboardInterrupt",
     "evalue": "",
     "output_type": "error",
     "traceback": [
      "\u001b[1;31m---------------------------------------------------------------------------\u001b[0m",
      "\u001b[1;31mKeyboardInterrupt\u001b[0m                         Traceback (most recent call last)",
      "\u001b[1;32m<ipython-input-43-24da89d2b0cf>\u001b[0m in \u001b[0;36m<module>\u001b[1;34m()\u001b[0m\n\u001b[0;32m     12\u001b[0m     \u001b[0mprev_x\u001b[0m \u001b[1;33m=\u001b[0m \u001b[0mcur_x\u001b[0m\u001b[1;33m\u001b[0m\u001b[0m\n\u001b[0;32m     13\u001b[0m \u001b[1;33m\u001b[0m\u001b[0m\n\u001b[1;32m---> 14\u001b[1;33m     \u001b[0mr_nn\u001b[0m \u001b[1;33m=\u001b[0m \u001b[0mgrad_cost_function_nn\u001b[0m\u001b[1;33m(\u001b[0m\u001b[0mprev_x_nn\u001b[0m\u001b[1;33m,\u001b[0m \u001b[0mp_90\u001b[0m\u001b[1;33m,\u001b[0m \u001b[0mnn_importance\u001b[0m\u001b[1;33m)\u001b[0m\u001b[1;33m\u001b[0m\u001b[0m\n\u001b[0m\u001b[0;32m     15\u001b[0m     \u001b[0mr\u001b[0m \u001b[1;33m=\u001b[0m \u001b[0mgrad_cost_function\u001b[0m\u001b[1;33m(\u001b[0m\u001b[0mprev_x\u001b[0m\u001b[1;33m,\u001b[0m \u001b[0mp_90\u001b[0m\u001b[1;33m)\u001b[0m\u001b[1;33m\u001b[0m\u001b[0m\n\u001b[0;32m     16\u001b[0m \u001b[1;31m#     grad_rec = grad_cost_function(prev_x, p_90)\u001b[0m\u001b[1;33m\u001b[0m\u001b[1;33m\u001b[0m\u001b[0m\n",
      "\u001b[1;32m<ipython-input-36-f7bfe1b67248>\u001b[0m in \u001b[0;36mgrad_cost_function_nn\u001b[1;34m(x, y, nn_importance)\u001b[0m\n\u001b[0;32m     21\u001b[0m     \u001b[1;32mglobal\u001b[0m \u001b[0mA_90\u001b[0m\u001b[1;33m\u001b[0m\u001b[0m\n\u001b[0;32m     22\u001b[0m \u001b[1;31m#     global nn_importance\u001b[0m\u001b[1;33m\u001b[0m\u001b[1;33m\u001b[0m\u001b[0m\n\u001b[1;32m---> 23\u001b[1;33m     \u001b[0mU1\u001b[0m \u001b[1;33m=\u001b[0m \u001b[0mnp\u001b[0m\u001b[1;33m.\u001b[0m\u001b[0mmatmul\u001b[0m\u001b[1;33m(\u001b[0m\u001b[0mnp\u001b[0m\u001b[1;33m.\u001b[0m\u001b[0mtranspose\u001b[0m\u001b[1;33m(\u001b[0m\u001b[0mA_90\u001b[0m\u001b[1;33m)\u001b[0m\u001b[1;33m,\u001b[0m \u001b[0mnp\u001b[0m\u001b[1;33m.\u001b[0m\u001b[0mtranspose\u001b[0m\u001b[1;33m(\u001b[0m\u001b[0mf\u001b[0m\u001b[1;33m(\u001b[0m\u001b[0mx\u001b[0m\u001b[1;33m)\u001b[0m\u001b[1;33m.\u001b[0m\u001b[0mflatten\u001b[0m\u001b[1;33m(\u001b[0m\u001b[1;33m)\u001b[0m\u001b[1;33m)\u001b[0m\u001b[1;33m)\u001b[0m\u001b[1;33m\u001b[0m\u001b[0m\n\u001b[0m\u001b[0;32m     24\u001b[0m \u001b[1;31m#     print(y.flatten().shape)\u001b[0m\u001b[1;33m\u001b[0m\u001b[1;33m\u001b[0m\u001b[0m\n\u001b[0;32m     25\u001b[0m     \u001b[0mU2\u001b[0m \u001b[1;33m=\u001b[0m \u001b[0mnp\u001b[0m\u001b[1;33m.\u001b[0m\u001b[0mmatmul\u001b[0m\u001b[1;33m(\u001b[0m\u001b[0mnp\u001b[0m\u001b[1;33m.\u001b[0m\u001b[0mtranspose\u001b[0m\u001b[1;33m(\u001b[0m\u001b[0mA_90\u001b[0m\u001b[1;33m)\u001b[0m\u001b[1;33m,\u001b[0m \u001b[0mnp\u001b[0m\u001b[1;33m.\u001b[0m\u001b[0mtranspose\u001b[0m\u001b[1;33m(\u001b[0m\u001b[0my\u001b[0m\u001b[1;33m.\u001b[0m\u001b[0mflatten\u001b[0m\u001b[1;33m(\u001b[0m\u001b[1;33m)\u001b[0m\u001b[1;33m)\u001b[0m\u001b[1;33m)\u001b[0m\u001b[1;33m\u001b[0m\u001b[0m\n",
      "\u001b[1;32m<ipython-input-36-f7bfe1b67248>\u001b[0m in \u001b[0;36mf\u001b[1;34m(x)\u001b[0m\n\u001b[0;32m      3\u001b[0m \u001b[1;32mdef\u001b[0m \u001b[0mf\u001b[0m\u001b[1;33m(\u001b[0m\u001b[0mx\u001b[0m\u001b[1;33m)\u001b[0m\u001b[1;33m:\u001b[0m\u001b[1;33m\u001b[0m\u001b[0m\n\u001b[0;32m      4\u001b[0m     \u001b[1;32mglobal\u001b[0m \u001b[0mA_90\u001b[0m\u001b[1;33m\u001b[0m\u001b[0m\n\u001b[1;32m----> 5\u001b[1;33m     \u001b[0mp\u001b[0m \u001b[1;33m=\u001b[0m \u001b[0mnp\u001b[0m\u001b[1;33m.\u001b[0m\u001b[0mtranspose\u001b[0m\u001b[1;33m(\u001b[0m\u001b[0mnp\u001b[0m\u001b[1;33m.\u001b[0m\u001b[0mmatmul\u001b[0m\u001b[1;33m(\u001b[0m\u001b[0mA_90\u001b[0m\u001b[1;33m,\u001b[0m \u001b[0mnp\u001b[0m\u001b[1;33m.\u001b[0m\u001b[0mtranspose\u001b[0m\u001b[1;33m(\u001b[0m\u001b[0mx\u001b[0m\u001b[1;33m.\u001b[0m\u001b[0mflatten\u001b[0m\u001b[1;33m(\u001b[0m\u001b[1;33m)\u001b[0m\u001b[1;33m)\u001b[0m\u001b[1;33m)\u001b[0m\u001b[1;33m)\u001b[0m\u001b[1;33m\u001b[0m\u001b[0m\n\u001b[0m\u001b[0;32m      6\u001b[0m     \u001b[1;32mreturn\u001b[0m \u001b[0mp\u001b[0m\u001b[1;33m.\u001b[0m\u001b[0mreshape\u001b[0m\u001b[1;33m(\u001b[0m\u001b[1;36m90\u001b[0m\u001b[1;33m,\u001b[0m \u001b[1;36m90\u001b[0m\u001b[1;33m)\u001b[0m\u001b[1;33m\u001b[0m\u001b[0m\n\u001b[0;32m      7\u001b[0m \u001b[1;33m\u001b[0m\u001b[0m\n",
      "\u001b[1;31mKeyboardInterrupt\u001b[0m: "
     ]
    }
   ],
   "source": [
    "itr = 10001\n",
    "lr = 0.00001\n",
    "cur_x_nn = np.random.rand(64, 64)\n",
    "cur_x = np.random.rand(64, 64)\n",
    "\n",
    "\n",
    "for i in range(itr+1):\n",
    "    \n",
    "    nn_importance = i**2\n",
    "    \n",
    "    prev_x_nn = cur_x_nn\n",
    "    prev_x = cur_x\n",
    "    \n",
    "    r_nn = grad_cost_function_nn(prev_x_nn, p_90, nn_importance)\n",
    "    r = grad_cost_function(prev_x, p_90)\n",
    "#     grad_rec = grad_cost_function(prev_x, p_90)\n",
    "    \n",
    "    cur_x = cur_x - lr * r\n",
    "    cur_x_nn = cur_x_nn - lr * r\n",
    "    \n",
    "    \n",
    "    if i%100 == 0:\n",
    "        print('___________________________')\n",
    "        print(cost_function_nn(cur_x_nn, p_90, nn_importance))\n",
    "        print(cost_function(cur_x, p_90))\n",
    "        print(i / ( itr - 1 ) * 100, '% done')\n",
    "        # print(cur_x - original_list[color])"
   ]
  },
  {
   "cell_type": "code",
   "execution_count": 44,
   "metadata": {},
   "outputs": [
    {
     "data": {
      "image/png": "[encoded data removed]",
      "text/plain": [
       "<Figure size 432x288 with 1 Axes>"
      ]
     },
     "metadata": {},
     "output_type": "display_data"
    }
   ],
   "source": [
    "plt.imshow(cur_x.reshape(64, 64))\n",
    "plt.show()"
   ]
  },
  {
   "cell_type": "code",
   "execution_count": 45,
   "metadata": {},
   "outputs": [
    {
     "data": {
      "image/png": "[encoded data removed]",
      "text/plain": [
       "<Figure size 432x288 with 1 Axes>"
      ]
     },
     "metadata": {},
     "output_type": "display_data"
    },
    {
     "data": {
      "image/png": "[encoded data removed]",
      "text/plain": [
       "<Figure size 432x288 with 1 Axes>"
      ]
     },
     "metadata": {},
     "output_type": "display_data"
    }
   ],
   "source": [
    "plt.imshow(cur_x_nn.reshape(64, 64))\n",
    "plt.show()\n",
    "plt.imshow(image_to_reconstruct)\n",
    "plt.show()"
   ]
  },
  {
   "cell_type": "code",
   "execution_count": 46,
   "metadata": {},
   "outputs": [
    {
     "data": {
      "image/png": "[encoded data removed]",
      "text/plain": [
       "<Figure size 1440x1440 with 3 Axes>"
      ]
     },
     "metadata": {},
     "output_type": "display_data"
    }
   ],
   "source": [
    "fig=plt.figure(figsize=(20, 20))\n",
    "fig.add_subplot(1, 3, 1)\n",
    "plt.imshow(image_to_reconstruct)\n",
    "fig.add_subplot(1, 3, 2)\n",
    "plt.imshow(cur_x)\n",
    "fig.add_subplot(1, 3, 3)\n",
    "plt.imshow(cur_x_nn)\n",
    "plt.show()"
   ]
  },
  {
   "cell_type": "code",
   "execution_count": 47,
   "metadata": {},
   "outputs": [
    {
     "name": "stdout",
     "output_type": "stream",
     "text": [
      "[[-15.78019581  25.63570424  11.53418534 -34.69615488   2.81354951\n",
      "   43.38264077 -52.83104285  22.81353213  19.28566699 -48.12096927\n",
      "   26.18182588  -4.94541826 -13.6576838   -0.18465799  25.63281402\n",
      "   -3.72524153   4.30228436 -16.60850164 -29.39816144  32.03773955\n",
      "    9.86104507 -24.12715308  21.2145787    3.94526016 -16.54637158\n",
      "  -12.9927779   30.125064   -17.05257028   4.57791287  31.65162631\n",
      "  -18.62921629  -7.55277057   0.98568749  15.58603235 -10.64790681\n",
      "    7.39154682   8.87613244  -2.9605099  -26.19653429  14.53090274\n",
      "   27.46657306  -9.30749818  25.6088468  -56.7480867   39.69174146\n",
      "  -58.15904479  30.68299873  -6.10904015  12.07242822   6.577651\n",
      "  -34.74122001  16.70248755   8.84184585 -15.98770204   8.41729593\n",
      "    0.66011847   5.88492597  27.89479808 -25.46206284 -34.49555908\n",
      "   45.94661473  34.75429121 -96.56970856  64.27393238]]\n",
      "[[-16.32057349  26.01064255  11.62203594 -34.49441392   3.44762059\n",
      "   43.13903947 -53.59885861  23.21917294  18.53819454 -48.11158386\n",
      "   26.94822142  -5.16852071 -13.73469629  -0.26459535  25.83647036\n",
      "   -3.94131446   4.46322273 -16.18056491 -29.58662122  32.11598775\n",
      "    9.88201402 -23.60793869  21.10864989   3.66859424 -16.9892391\n",
      "  -13.24012093  30.14312901 -17.79911736   4.76280643  31.85458303\n",
      "  -18.6075924   -7.86323728   1.15554496  16.11660694 -10.56111718\n",
      "    6.9239175    8.96502333  -3.20269953 -25.27079841  14.50676949\n",
      "   27.20986146  -8.83368327  25.88843407 -55.98161156  39.86387238\n",
      "  -58.73266945  30.06868036  -6.33752841  11.73448661   6.73814425\n",
      "  -34.21251143  15.91476882   9.11616482 -16.01540264   7.95973991\n",
      "    0.87467552   6.13160433  28.41400687 -26.11962766 -34.68099874\n",
      "   46.71408896  35.18409488 -96.04431704  63.34447182]]\n"
     ]
    }
   ],
   "source": [
    "print(cur_x[0])\n",
    "print(cur_x_nn[0])"
   ]
  },
  {
   "cell_type": "code",
   "execution_count": null,
   "metadata": {
    "collapsed": true
   },
   "outputs": [],
   "source": []
  }
 ],
 "metadata": {
  "kernelspec": {
   "display_name": "Python 3",
   "language": "python",
   "name": "python3"
  },
  "language_info": {
   "codemirror_mode": {
    "name": "ipython",
    "version": 3
   },
   "file_extension": ".py",
   "mimetype": "text/x-python",
   "name": "python",
   "nbconvert_exporter": "python",
   "pygments_lexer": "ipython3",
   "version": "3.6.2"
  }
 },
 "nbformat": 4,
 "nbformat_minor": 2
}
