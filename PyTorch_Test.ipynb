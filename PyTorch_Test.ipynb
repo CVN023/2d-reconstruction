{
 "cells": [
  {
   "cell_type": "code",
   "execution_count": 18,
   "metadata": {
    "collapsed": true
   },
   "outputs": [],
   "source": [
    "import torch \n",
    "import torch.nn as nn\n",
    "import torchvision\n",
    "import torchvision.datasets as dsets\n",
    "from skimage import transform\n",
    "import torchvision.transforms as transforms\n",
    "from torch.autograd import Variable\n",
    "import pandas as pd;\n",
    "import numpy as np;\n",
    "from torch.utils.data import Dataset, DataLoader\n",
    "# from vis_utils import *\n",
    "import random\n",
    "import h5py\n",
    "import math\n",
    "import torch.nn.functional as F"
   ]
  },
  {
   "cell_type": "code",
   "execution_count": 19,
   "metadata": {
    "collapsed": true
   },
   "outputs": [],
   "source": [
    "# Hyperparameters\n",
    "num_epochs = 2\n",
    "num_classes = 10\n",
    "batch_size = 1\n",
    "learning_rate = 0.001\n",
    "\n",
    "DATA_PATH = 'MNIST'\n",
    "MODEL_STORE_PATH = 'pytorch_model\\\\'"
   ]
  },
  {
   "cell_type": "code",
   "execution_count": 20,
   "metadata": {
    "collapsed": true
   },
   "outputs": [],
   "source": [
    "# transforms to apply to the data\n",
    "trans = transforms.Compose([transforms.ToTensor(), transforms.Normalize((0.1307,), (0.3081,))])\n",
    "\n",
    "# MNIST dataset\n",
    "train_dataset = torchvision.datasets.MNIST(root=DATA_PATH, train=True, transform=trans, download=True)\n",
    "test_dataset = torchvision.datasets.MNIST(root=DATA_PATH, train=False, transform=trans)"
   ]
  },
  {
   "cell_type": "code",
   "execution_count": 21,
   "metadata": {
    "collapsed": true
   },
   "outputs": [],
   "source": [
    "# transforms to apply to the data\n",
    "trans = transforms.Compose([transforms.ToTensor(), transforms.Normalize((0.1307,), (0.3081,))])\n",
    "\n",
    "# MNIST dataset\n",
    "train_dataset = torchvision.datasets.MNIST(root=DATA_PATH, train=True, transform=trans, download=True)\n",
    "test_dataset = torchvision.datasets.MNIST(root=DATA_PATH, train=False, transform=trans)"
   ]
  },
  {
   "cell_type": "code",
   "execution_count": 22,
   "metadata": {
    "collapsed": true
   },
   "outputs": [],
   "source": [
    "train_loader = DataLoader(dataset=train_dataset, batch_size=batch_size, shuffle=True)\n",
    "test_loader = DataLoader(dataset=test_dataset, batch_size=batch_size, shuffle=False)"
   ]
  },
  {
   "cell_type": "code",
   "execution_count": 23,
   "metadata": {
    "collapsed": true
   },
   "outputs": [],
   "source": [
    "class ConvNet(nn.Module):\n",
    "    def __init__(self):\n",
    "        super(ConvNet, self).__init__()\n",
    "        self.layer1 = nn.Sequential(\n",
    "            nn.Conv2d(1, 32, kernel_size=5, stride=1, padding=2),\n",
    "            nn.ReLU(),\n",
    "            nn.MaxPool2d(kernel_size=2, stride=2))\n",
    "        self.layer2 = nn.Sequential(\n",
    "            nn.Conv2d(32, 64, kernel_size=5, stride=1, padding=2),\n",
    "            nn.ReLU(),\n",
    "            nn.MaxPool2d(kernel_size=2, stride=2))\n",
    "        self.drop_out = nn.Dropout()\n",
    "        self.fc1 = nn.Linear(16384, 1000)\n",
    "#         self.fc1 = nn.Linear(7 * 7 * 64, 1000)\n",
    "        self.fc2 = nn.Linear(1000, 1)\n",
    "        \n",
    "    def forward(self, x):\n",
    "        out = self.layer1(x)\n",
    "        out = self.layer2(out)\n",
    "        out = out.reshape(out.size(0), -1)\n",
    "        out = self.drop_out(out)\n",
    "#         print('shape, before fc1', out.shape)\n",
    "        out = self.fc1(out)\n",
    "#         out = self.fc2(out)\n",
    "        out = F.relu(self.fc2(out))\n",
    "        return out"
   ]
  },
  {
   "cell_type": "code",
   "execution_count": 24,
   "metadata": {
    "collapsed": true
   },
   "outputs": [],
   "source": [
    "model = ConvNet()\n",
    "\n",
    "# Loss and optimizer\n",
    "# criterion = nn.CrossEntropyLoss()\n",
    "# optimizer = torch.optim.Adam(model.parameters(), lr=learning_rate)\n",
    "\n",
    "optimizer = torch.optim.SGD(model.parameters(), lr=0.0001)\n",
    "criterion = nn.MSELoss()  # this is for regression mean squared loss"
   ]
  },
  {
   "cell_type": "code",
   "execution_count": 25,
   "metadata": {
    "collapsed": true
   },
   "outputs": [],
   "source": [
    "# # Train the model\n",
    "# total_step = len(train_loader)\n",
    "# loss_list = []\n",
    "# acc_list = []\n",
    "# for epoch in range(num_epochs):\n",
    "#     for i, (images, labels) in enumerate(train_loader):\n",
    "#         # Run the forward pass\n",
    "#         print(images.shape)\n",
    "#         images = Variable(images.float())\n",
    "#         print(images.shape)\n",
    "#         print(images.type)\n",
    "#         labels = Variable(labels)\n",
    "#         print('labels')\n",
    "#         print(labels)\n",
    "#         print(labels.shape)\n",
    "#         outputs = model(images)\n",
    "#         loss = loss_func(outputs, labels)\n",
    "#         loss_list.append(loss.item())\n",
    "\n",
    "#         # Backprop and perform Adam optimisation\n",
    "#         optimizer.zero_grad()\n",
    "#         loss.backward()\n",
    "#         optimizer.step()\n",
    "\n",
    "#         # Track the accuracy\n",
    "#         total = labels.size(0)\n",
    "#         _, predicted = torch.max(outputs.data, 1)\n",
    "#         correct = (predicted == labels).sum().item()\n",
    "#         acc_list.append(correct / total)\n",
    "\n",
    "#         if (i + 1) % 100 == 0:\n",
    "#             print('Epoch [{}/{}], Step [{}/{}], Loss: {:.4f}, Accuracy: {:.2f}%'\n",
    "#                   .format(epoch + 1, num_epochs, i + 1, total_step, loss.item(),\n",
    "#                           (correct / total) * 100))"
   ]
  },
  {
   "cell_type": "code",
   "execution_count": 26,
   "metadata": {
    "collapsed": true
   },
   "outputs": [],
   "source": [
    "# print('Here is the size of the input images:', images.shape)\n",
    "# print('Here is the size of the outputs:', outputs.shape)"
   ]
  },
  {
   "cell_type": "code",
   "execution_count": 27,
   "metadata": {
    "collapsed": true
   },
   "outputs": [],
   "source": [
    "import matplotlib.pyplot as plt\n",
    "from PIL import Image\n",
    "\n",
    "\n",
    "# plt.imshow(IMAGE)\n",
    "# plt.show()"
   ]
  },
  {
   "cell_type": "code",
   "execution_count": 28,
   "metadata": {
    "collapsed": true
   },
   "outputs": [],
   "source": [
    "number_brains_train = 100\n",
    "brains = []\n",
    "for i in range(1, 1+number_brains_train):\n",
    "    with h5py.File('../Brains/%s.mat' %i, 'r') as f:\n",
    "#         print(list(f.keys()))\n",
    "#         print(list(f['cjdata'].keys()))\n",
    "        brain = np.array(f['cjdata']['image'])\n",
    "        brain = brain[::8, ::8]\n",
    "        brains += [brain]\n",
    "\n",
    "# columns = 2\n",
    "# rows = 5\n",
    "\n",
    "# fig=plt.figure(figsize=(20, 20))\n",
    "# for i in range(1, 11):\n",
    "#     brain = brains[i-1]\n",
    "#     fig.add_subplot(rows, columns, i)\n",
    "#     plt.imshow(brain)\n",
    "# plt.show()\n"
   ]
  },
  {
   "cell_type": "code",
   "execution_count": 29,
   "metadata": {
    "collapsed": true
   },
   "outputs": [],
   "source": [
    "resulting_brains = []\n",
    "vars_ = []\n",
    "number_brains_blurried = 10\n",
    "\n",
    "for l in range(len(brains)):\n",
    "    test_brain = brains[l]/1000\n",
    "    resulting_brains.append(test_brain)\n",
    "    vars_.append(0)\n",
    "    for i in range(number_brains_blurried):\n",
    "        var = 0\n",
    "        changed_brain = np.copy(test_brain)\n",
    "        for j in range(64):\n",
    "            for k in range(64):\n",
    "                value = changed_brain[k][j]\n",
    "                add = np.random.randint(max(-value, -1000+100*i), 1000-100*i)/1000\n",
    "                #print(changed_brain[k][j])\n",
    "                changed_brain[k][j] = value + add\n",
    "                #print(changed_brain[k][j])\n",
    "\n",
    "                var = var + add/1000\n",
    "        resulting_brains.append(changed_brain)\n",
    "        vars_.append(var)"
   ]
  },
  {
   "cell_type": "code",
   "execution_count": 30,
   "metadata": {},
   "outputs": [
    {
     "name": "stdout",
     "output_type": "stream",
     "text": [
      "1100\n",
      "1100\n",
      "0.001454\n"
     ]
    }
   ],
   "source": [
    "print(len(vars_))\n",
    "print(len(resulting_brains))\n",
    "\n",
    "print((test_brain/1000)[32][32])"
   ]
  },
  {
   "cell_type": "code",
   "execution_count": 31,
   "metadata": {},
   "outputs": [
    {
     "name": "stdout",
     "output_type": "stream",
     "text": [
      "1100 (1100, 1)\n"
     ]
    }
   ],
   "source": [
    "# labels_ = np.random.randint(1, 10, 10).reshape(10, 1)\n",
    "# print(np.array(brains).shape)\n",
    "# brains = np.array(brains).reshape(10, 1, 64, 64)\n",
    "# print(labels_.shape, brains.shape)\n",
    "# print(labels_)\n",
    "\n",
    "vars_ = np.array(vars_).reshape(number_brains_train*(number_brains_blurried+1), 1)\n",
    "resulting_brains = np.array(resulting_brains).reshape(number_brains_train*(number_brains_blurried+1), 1, 64, 64)\n",
    "\n",
    "print(vars_.shape[0], vars_.shape)"
   ]
  },
  {
   "cell_type": "code",
   "execution_count": 32,
   "metadata": {},
   "outputs": [
    {
     "name": "stdout",
     "output_type": "stream",
     "text": [
      "Epoch [1/2], Step [100/1100], Loss: 0.3849\n",
      "Epoch [1/2], Step [200/1100], Loss: 0.2222\n",
      "Epoch [1/2], Step [300/1100], Loss: 0.0484\n",
      "Epoch [1/2], Step [400/1100], Loss: 0.1084\n",
      "Epoch [1/2], Step [500/1100], Loss: 0.0052\n",
      "Epoch [1/2], Step [600/1100], Loss: 0.0169\n",
      "Epoch [1/2], Step [700/1100], Loss: 0.0160\n",
      "Epoch [1/2], Step [800/1100], Loss: 0.0780\n",
      "Epoch [1/2], Step [900/1100], Loss: 0.1175\n",
      "Epoch [1/2], Step [1000/1100], Loss: 0.0111\n",
      "Epoch [1/2], Step [1100/1100], Loss: 0.0326\n",
      "Epoch [2/2], Step [100/1100], Loss: 0.0059\n",
      "Epoch [2/2], Step [200/1100], Loss: 0.0478\n",
      "Epoch [2/2], Step [300/1100], Loss: 0.0354\n",
      "Epoch [2/2], Step [400/1100], Loss: 0.0016\n",
      "Epoch [2/2], Step [500/1100], Loss: 0.0736\n",
      "Epoch [2/2], Step [600/1100], Loss: 0.0402\n",
      "Epoch [2/2], Step [700/1100], Loss: 0.0011\n",
      "Epoch [2/2], Step [800/1100], Loss: 0.0190\n",
      "Epoch [2/2], Step [900/1100], Loss: 0.0000\n",
      "Epoch [2/2], Step [1000/1100], Loss: 0.0001\n",
      "Epoch [2/2], Step [1100/1100], Loss: 0.0001\n"
     ]
    }
   ],
   "source": [
    "# Train the model\n",
    "total_step = vars_.shape[0]\n",
    "loss_list = []\n",
    "acc_list = []\n",
    "for epoch in range(num_epochs):\n",
    "#     for i, (images, labels) in enumerate(train_loader):\n",
    "#         # Run the forward pass\n",
    "#         images = Variable(images.float())\n",
    "#         labels = Variable(labels)\n",
    "#         outputs = model(images)\n",
    "    for i in range(vars_.shape[0]):\n",
    "        images = torch.from_numpy(resulting_brains[i].reshape(1, 1, 64, 64))\n",
    "        images = Variable(images.float())\n",
    "\n",
    "        labels = torch.from_numpy(vars_[i])\n",
    "#         labels = Variable(labels.float())\n",
    "#         labels = labels.float()\n",
    "        outputs = model(images)\n",
    "#         print('Out:', outputs)\n",
    "#         print('Lab:', labels)\n",
    "        loss = criterion(outputs, labels.float())\n",
    "#         print('Loss:', loss)\n",
    "        loss_list.append(loss.item())\n",
    "\n",
    "        # Backprop and perform Adam optimisation\n",
    "        optimizer.zero_grad()\n",
    "        loss.backward(retain_graph=True)\n",
    "        optimizer.step()\n",
    "\n",
    "#         # Track the accuracy\n",
    "#         total = labels.size(0)\n",
    "#         _, predicted = torch.max(outputs.data, 1)\n",
    "#         correct = (predicted == labels).sum().item()\n",
    "#         acc_list.append(correct / total)\n",
    "\n",
    "        if (i + 1) % 100 == 0:\n",
    "            print('Epoch [{}/{}], Step [{}/{}], Loss: {:.4f}'\n",
    "                  .format(epoch + 1, num_epochs, i + 1, total_step, loss.item()))"
   ]
  },
  {
   "cell_type": "code",
   "execution_count": 33,
   "metadata": {
    "collapsed": true
   },
   "outputs": [],
   "source": [
    "resulting_brains_test = []\n",
    "vars_test= []\n",
    "\n",
    "brains_test = []\n",
    "for i in range(len(brains), len(brains)+10):\n",
    "    with h5py.File('../Brains/%s.mat' %i, 'r') as f:\n",
    "#         print(list(f.keys()))\n",
    "#         print(list(f['cjdata'].keys()))\n",
    "        brain = np.array(f['cjdata']['image'])\n",
    "        brain = brain[::8, ::8]\n",
    "        brains_test += [brain]\n",
    "\n",
    "for l in range(len(brains_test)):\n",
    "    test_brain = brains_test[l]/1000\n",
    "    resulting_brains_test.append(test_brain)\n",
    "    vars_test.append(0)\n",
    "    for i in range(10):\n",
    "        var = 0\n",
    "        changed_brain = np.copy(test_brain)\n",
    "        for j in range(64):\n",
    "            for k in range(64):\n",
    "                value = changed_brain[k][j]\n",
    "                add = np.random.randint(max(-value, -1000+100*i), 1000-100*i)/1000\n",
    "                #print(changed_brain[k][j])\n",
    "                changed_brain[k][j] = value + add\n",
    "                #print(changed_brain[k][j])\n",
    "\n",
    "                var = var + add/1000\n",
    "        resulting_brains_test.append(changed_brain)\n",
    "        vars_test.append(var)"
   ]
  },
  {
   "cell_type": "code",
   "execution_count": 34,
   "metadata": {},
   "outputs": [
    {
     "name": "stdout",
     "output_type": "stream",
     "text": [
      "OUT tensor(0.2237) REAL 0\n",
      "OUT tensor(2.0041) REAL 2.0491809999999995\n",
      "OUT tensor(1.8174) REAL 1.8430379999999995\n",
      "OUT tensor(1.6091) REAL 1.6266749999999988\n",
      "OUT tensor(1.4486) REAL 1.428879999999998\n",
      "OUT tensor(1.2515) REAL 1.240374000000003\n",
      "OUT tensor(1.0694) REAL 1.012704\n",
      "OUT tensor(0.8844) REAL 0.8070690000000003\n",
      "OUT tensor(0.6997) REAL 0.6070019999999987\n",
      "OUT tensor(0.5329) REAL 0.40431700000000004\n",
      "OUT tensor(0.3555) REAL 0.19795500000000157\n",
      "OUT tensor(0.2670) REAL 0\n",
      "OUT tensor(2.0062) REAL 2.0318840000000002\n",
      "OUT tensor(1.8610) REAL 1.842448000000008\n",
      "OUT tensor(1.6944) REAL 1.649273999999997\n",
      "OUT tensor(1.4567) REAL 1.431440000000002\n",
      "OUT tensor(1.3293) REAL 1.2304939999999984\n",
      "OUT tensor(1.1418) REAL 1.020377000000001\n",
      "OUT tensor(0.9150) REAL 0.8053330000000005\n",
      "OUT tensor(0.7491) REAL 0.6004479999999984\n",
      "OUT tensor(0.5701) REAL 0.4055240000000003\n",
      "OUT tensor(0.4011) REAL 0.19952900000000107\n",
      "OUT tensor(0.3117) REAL 0\n",
      "OUT tensor(2.0785) REAL 2.065941000000001\n",
      "OUT tensor(1.9137) REAL 1.868400999999992\n",
      "OUT tensor(1.7048) REAL 1.6295800000000025\n",
      "OUT tensor(1.4814) REAL 1.429272000000001\n",
      "OUT tensor(1.3156) REAL 1.2232449999999981\n",
      "OUT tensor(1.1392) REAL 1.017605000000001\n",
      "OUT tensor(0.9620) REAL 0.81338\n",
      "OUT tensor(0.7931) REAL 0.6167009999999982\n",
      "OUT tensor(0.6117) REAL 0.40607500000000035\n",
      "OUT tensor(0.4449) REAL 0.20462200000000091\n",
      "OUT tensor(0.2877) REAL 0\n",
      "OUT tensor(2.0584) REAL 2.0631350000000004\n",
      "OUT tensor(1.8423) REAL 1.8249369999999945\n",
      "OUT tensor(1.7013) REAL 1.6291760000000008\n",
      "OUT tensor(1.5070) REAL 1.4282490000000017\n",
      "OUT tensor(1.2996) REAL 1.234788000000001\n",
      "OUT tensor(1.1476) REAL 1.0229949999999992\n",
      "OUT tensor(0.9368) REAL 0.8107400000000008\n",
      "OUT tensor(0.7800) REAL 0.6145850000000003\n",
      "OUT tensor(0.6002) REAL 0.40623799999999916\n",
      "OUT tensor(0.4221) REAL 0.2006680000000012\n",
      "OUT tensor(0.) REAL 0\n",
      "OUT tensor(1.8257) REAL 2.042143999999998\n",
      "OUT tensor(1.6353) REAL 1.8421590000000063\n",
      "OUT tensor(1.4263) REAL 1.6632630000000035\n",
      "OUT tensor(1.2472) REAL 1.4194730000000009\n",
      "OUT tensor(1.0543) REAL 1.2093969999999978\n",
      "OUT tensor(0.8568) REAL 1.0145149999999998\n",
      "OUT tensor(0.6655) REAL 0.8112960000000001\n",
      "OUT tensor(0.4843) REAL 0.6192729999999985\n",
      "OUT tensor(0.2750) REAL 0.40636899999999954\n",
      "OUT tensor(0.0895) REAL 0.20289500000000055\n",
      "OUT tensor(0.) REAL 0\n",
      "OUT tensor(1.8287) REAL 2.0589649999999953\n",
      "OUT tensor(1.6466) REAL 1.8411329999999988\n",
      "OUT tensor(1.4664) REAL 1.6461019999999942\n",
      "OUT tensor(1.2430) REAL 1.4216559999999987\n",
      "OUT tensor(1.0809) REAL 1.2233800000000015\n",
      "OUT tensor(0.8641) REAL 1.0101449999999976\n",
      "OUT tensor(0.6698) REAL 0.8227619999999973\n",
      "OUT tensor(0.4636) REAL 0.6131910000000017\n",
      "OUT tensor(0.2812) REAL 0.41684999999999983\n",
      "OUT tensor(0.0879) REAL 0.20149600000000115\n",
      "OUT tensor(0.) REAL 0\n",
      "OUT tensor(1.8499) REAL 2.056014999999993\n",
      "OUT tensor(1.6316) REAL 1.8426870000000022\n",
      "OUT tensor(1.4548) REAL 1.6303240000000032\n",
      "OUT tensor(1.2894) REAL 1.439611000000001\n",
      "OUT tensor(1.0681) REAL 1.2213379999999983\n",
      "OUT tensor(0.8763) REAL 1.025450999999999\n",
      "OUT tensor(0.6871) REAL 0.8145419999999998\n",
      "OUT tensor(0.4873) REAL 0.6161139999999994\n",
      "OUT tensor(0.2848) REAL 0.4029729999999992\n",
      "OUT tensor(0.1039) REAL 0.20051300000000075\n",
      "OUT tensor(0.) REAL 0\n",
      "OUT tensor(1.8230) REAL 2.0597399999999957\n",
      "OUT tensor(1.6058) REAL 1.821537000000004\n",
      "OUT tensor(1.4347) REAL 1.6105650000000002\n",
      "OUT tensor(1.2405) REAL 1.4311669999999963\n",
      "OUT tensor(1.0506) REAL 1.2200459999999962\n",
      "OUT tensor(0.8705) REAL 1.0238889999999996\n",
      "OUT tensor(0.6522) REAL 0.8064590000000021\n",
      "OUT tensor(0.4762) REAL 0.6152859999999993\n",
      "OUT tensor(0.2658) REAL 0.4053039999999997\n",
      "OUT tensor(0.0852) REAL 0.1990990000000013\n",
      "OUT tensor(0.) REAL 0\n",
      "OUT tensor(1.8373) REAL 2.051079000000003\n",
      "OUT tensor(1.6335) REAL 1.8374080000000008\n",
      "OUT tensor(1.4273) REAL 1.6293670000000011\n",
      "OUT tensor(1.2846) REAL 1.4411689999999977\n",
      "OUT tensor(1.0805) REAL 1.2220049999999993\n",
      "OUT tensor(0.8794) REAL 1.0202950000000017\n",
      "OUT tensor(0.6896) REAL 0.8172919999999989\n",
      "OUT tensor(0.4874) REAL 0.6020050000000007\n",
      "OUT tensor(0.2995) REAL 0.4048439999999994\n",
      "OUT tensor(0.1108) REAL 0.20346000000000122\n",
      "OUT tensor(0.0126) REAL 0\n",
      "OUT tensor(1.9051) REAL 2.0713619999999957\n",
      "OUT tensor(1.6721) REAL 1.8350119999999999\n",
      "OUT tensor(1.5502) REAL 1.6703020000000002\n",
      "OUT tensor(1.3026) REAL 1.4280900000000045\n",
      "OUT tensor(1.1598) REAL 1.2284949999999997\n",
      "OUT tensor(0.9231) REAL 1.0229819999999985\n",
      "OUT tensor(0.7428) REAL 0.8215550000000004\n",
      "OUT tensor(0.5517) REAL 0.6177889999999996\n",
      "OUT tensor(0.3549) REAL 0.41739599999999955\n",
      "OUT tensor(0.1653) REAL 0.2052700000000011\n"
     ]
    }
   ],
   "source": [
    "# Test the model\n",
    "model.eval()\n",
    "with torch.no_grad():\n",
    "#     for images, labels in test_loader:\n",
    "   for i in range(len(vars_test)):\n",
    "        images = torch.from_numpy(resulting_brains_test[i].reshape(1, 1, 64, 64))\n",
    "        images = Variable(images.float())\n",
    "        outputs = model(images)\n",
    "          \n",
    "        print('OUT', outputs.data[0][0], 'REAL', vars_test[i])"
   ]
  },
  {
   "cell_type": "code",
   "execution_count": 35,
   "metadata": {},
   "outputs": [
    {
     "name": "stdout",
     "output_type": "stream",
     "text": [
      "tensor([[1.2515]], grad_fn=<ReluBackward0>)\n",
      "tensor([[1.2515]], grad_fn=<ReluBackward0>)\n",
      "tensor([[[[0.5030, 0.5490, 0.4560,  ..., 0.5380, 0.2950, 0.1700],\n",
      "          [0.1240, 0.0640, 0.0610,  ..., 0.1910, 0.3210, 0.5990],\n",
      "          [0.2210, 0.1260, 0.5620,  ..., 0.1530, 0.5190, 0.4260],\n",
      "          ...,\n",
      "          [0.0800, 0.4280, 0.3750,  ..., 0.5980, 0.2600, 0.5300],\n",
      "          [0.3250, 0.3080, 0.1630,  ..., 0.5920, 0.1640, 0.1150],\n",
      "          [0.4390, 0.5300, 0.0610,  ..., 0.5720, 0.2280, 0.5350]]]],\n",
      "       requires_grad=True)\n",
      "(tensor([[[[ 1.1370e-03, -2.4969e-04,  1.6930e-03,  ...,  1.2340e-03,\n",
      "            6.2099e-04,  1.8441e-05],\n",
      "          [ 5.2092e-04, -6.1690e-04,  7.7945e-04,  ..., -1.3919e-04,\n",
      "           -1.2647e-03,  1.0206e-03],\n",
      "          [-1.2582e-03,  9.6465e-05,  2.7836e-03,  ...,  6.3059e-04,\n",
      "            3.1460e-03,  1.3244e-03],\n",
      "          ...,\n",
      "          [-9.4233e-04,  2.1281e-03,  2.7734e-03,  ...,  2.0847e-03,\n",
      "           -6.9154e-04,  8.2919e-04],\n",
      "          [ 1.1874e-03,  2.8758e-04,  7.6824e-04,  ...,  2.6084e-03,\n",
      "            7.3182e-04, -4.1749e-04],\n",
      "          [-1.1357e-04,  1.2265e-03,  1.2137e-04,  ...,  1.1003e-03,\n",
      "           -1.2177e-04,  7.6640e-04]]]]),)\n"
     ]
    }
   ],
   "source": [
    "test_input = resulting_brains_test[5]\n",
    "test_input = torch.from_numpy(test_input.reshape(1, 1, 64, 64))\n",
    "# test_input.requires_grad = True\n",
    "# print()\n",
    "test_input = Variable(test_input.float(), requires_grad=True)\n",
    "test_output = model(test_input)  \n",
    "test_output.backward(retain_graph=True)\n",
    "print(test_output)\n",
    "# test_output = Variable(test_output, requires_grad=True)\n",
    "# test_output.requires_grad = True\n",
    "print(test_output)\n",
    "print(test_input)\n",
    "d = torch.autograd.grad(test_output, test_input, allow_unused=True)\n",
    "print(d)"
   ]
  },
  {
   "cell_type": "code",
   "execution_count": 36,
   "metadata": {},
   "outputs": [
    {
     "name": "stdout",
     "output_type": "stream",
     "text": [
      "torch.Size([1, 1, 64, 64])\n"
     ]
    }
   ],
   "source": [
    "print(d[0].shape)"
   ]
  },
  {
   "cell_type": "code",
   "execution_count": 37,
   "metadata": {
    "collapsed": true
   },
   "outputs": [],
   "source": [
    "# m = nn.Linear(2, 1)\n",
    "# inputa = torch.ones(1, 2)\n",
    "# inputa.requires_grad = True\n",
    "# output = m(inputa).sum()\n",
    "# output.backward(retain_graph=True)\n",
    "# print(inputa.grad.data)\n",
    "\n",
    "# print('INPUT:')\n",
    "# print(inputa)\n",
    "# print('OUTPUT:')\n",
    "# print(output)\n",
    "# print('LINEAR:')\n",
    "# print(m)\n",
    "# print('F(INPUT):', m(inputa))"
   ]
  },
  {
   "cell_type": "code",
   "execution_count": 38,
   "metadata": {
    "collapsed": true
   },
   "outputs": [],
   "source": [
    "# print(m.weight)\n",
    "# print(torch.autograd.grad(output, inputa))"
   ]
  },
  {
   "cell_type": "code",
   "execution_count": 39,
   "metadata": {
    "collapsed": true
   },
   "outputs": [],
   "source": [
    "# test_input = resulting_brains_test[0]\n",
    "# test_input = torch.from_numpy(test_input.reshape(1, 1, 64, 64))\n",
    "# # test_input.requires_grad = True\n",
    "# # print()\n",
    "# test_input = Variable(test_input.float())\n",
    "# test_output = model(test_input)  \n",
    "# test_output.backward()\n",
    "# print(test_output)\n",
    "# # test_output.requires_grad = True"
   ]
  },
  {
   "cell_type": "code",
   "execution_count": 40,
   "metadata": {
    "collapsed": true
   },
   "outputs": [],
   "source": [
    "# print(test_input)"
   ]
  },
  {
   "cell_type": "code",
   "execution_count": 41,
   "metadata": {
    "collapsed": true
   },
   "outputs": [],
   "source": [
    "# d = torch.autograd.grad(test_output, test_input)"
   ]
  },
  {
   "cell_type": "code",
   "execution_count": 42,
   "metadata": {},
   "outputs": [
    {
     "data": {
      "image/png": "[encoded data removed]",
      "text/plain": [
       "<Figure size 432x288 with 1 Axes>"
      ]
     },
     "metadata": {},
     "output_type": "display_data"
    }
   ],
   "source": [
    "# GRADIENT DESCENT\n",
    "\n",
    "with h5py.File('../Brains/%s.mat' %i, 'r') as f:\n",
    "    brain = np.array(f['cjdata']['image'])\n",
    "    brain = brain[::8, ::8]\n",
    "    image_to_reconstruct = brain\n",
    "\n",
    "plt.imshow(image_to_reconstruct)\n",
    "plt.show()"
   ]
  },
  {
   "cell_type": "code",
   "execution_count": 43,
   "metadata": {},
   "outputs": [
    {
     "name": "stdout",
     "output_type": "stream",
     "text": [
      "[[0. 0. 0. ... 0. 0. 0.]\n",
      " [0. 0. 0. ... 0. 0. 0.]\n",
      " [0. 0. 0. ... 0. 0. 0.]\n",
      " ...\n",
      " [0. 0. 0. ... 0. 0. 0.]\n",
      " [0. 0. 0. ... 0. 0. 0.]\n",
      " [0. 0. 0. ... 0. 0. 0.]]\n",
      "(8100, 4096)\n"
     ]
    }
   ],
   "source": [
    "import scipy.io\n",
    "mat_90 = scipy.io.loadmat('thinL64_90')\n",
    "print(mat_90['H'].todense())\n",
    "print(mat_90['H'].todense().shape)"
   ]
  },
  {
   "cell_type": "code",
   "execution_count": 44,
   "metadata": {},
   "outputs": [
    {
     "name": "stdout",
     "output_type": "stream",
     "text": [
      "(8100, 4096)\n"
     ]
    }
   ],
   "source": [
    "A_90 = mat_90['H'].todense()\n",
    "print(A_90.shape)"
   ]
  },
  {
   "cell_type": "code",
   "execution_count": 45,
   "metadata": {},
   "outputs": [],
   "source": [
    "p_90 = np.transpose(np.matmul(A_90, image_to_reconstruct.flatten()))"
   ]
  },
  {
   "cell_type": "code",
   "execution_count": 46,
   "metadata": {},
   "outputs": [
    {
     "data": {
      "image/png": "[encoded data removed]",
      "text/plain": [
       "<Figure size 432x288 with 1 Axes>"
      ]
     },
     "metadata": {},
     "output_type": "display_data"
    }
   ],
   "source": [
    "plt.imshow(p_90.reshape(90, 90))    \n",
    "plt.show()"
   ]
  },
  {
   "cell_type": "code",
   "execution_count": 72,
   "metadata": {
    "collapsed": true
   },
   "outputs": [],
   "source": [
    "def f(x):\n",
    "    global A_90\n",
    "    p = np.transpose(np.matmul(A_90, np.transpose(x.flatten())))\n",
    "    return p.reshape(90, 90)\n",
    "\n",
    "def cost_function(x, y):\n",
    "    return np.linalg.norm(f(x)-y.reshape(90, 90))\n",
    "    \n",
    "def grad_cost_function(x, y):\n",
    "    global A_90\n",
    "    U1 = np.matmul(np.transpose(A_90), np.transpose(f(x).flatten()))\n",
    "#     print(y.flatten().shape)\n",
    "    U2 = np.matmul(np.transpose(A_90), np.transpose(y.flatten()))\n",
    "#     return (np.dot(np.transpose(A), f(x)) - np.dot(np.transpose(A), y))\n",
    "    return U1.reshape(64, 64) - U2.reshape(64, 64)\n"
   ]
  },
  {
   "cell_type": "code",
   "execution_count": 138,
   "metadata": {},
   "outputs": [
    {
     "name": "stdout",
     "output_type": "stream",
     "text": [
      "___________________________\n",
      "tensor(1968970.8750, grad_fn=<AddBackward0>)\n",
      "1968909.5456323058\n",
      "0.0 % done\n",
      "___________________________\n",
      "tensor(301034., grad_fn=<AddBackward0>)\n",
      "300784.69641088706\n",
      "10.0 % done\n",
      "___________________________\n",
      "tensor(170160.4844, grad_fn=<AddBackward0>)\n",
      "170036.11523898758\n",
      "20.0 % done\n",
      "___________________________\n",
      "tensor(124849.8281, grad_fn=<AddBackward0>)\n",
      "124759.42873410709\n",
      "30.0 % done\n",
      "___________________________\n",
      "tensor(98980.9531, grad_fn=<AddBackward0>)\n",
      "98905.3274908661\n",
      "40.0 % done\n",
      "___________________________\n",
      "tensor(81347.1797, grad_fn=<AddBackward0>)\n",
      "81279.08777790339\n",
      "50.0 % done\n",
      "___________________________\n",
      "tensor(68425.9922, grad_fn=<AddBackward0>)\n",
      "68362.26287662356\n",
      "60.0 % done\n",
      "___________________________\n",
      "tensor(58551.6875, grad_fn=<AddBackward0>)\n",
      "58490.86988816092\n",
      "70.0 % done\n",
      "___________________________\n",
      "tensor(50787.4453, grad_fn=<AddBackward0>)\n",
      "50728.59219877285\n",
      "80.0 % done\n",
      "___________________________\n",
      "tensor(44551.5352, grad_fn=<AddBackward0>)\n",
      "44494.228454139615\n",
      "90.0 % done\n",
      "___________________________\n",
      "tensor(39458.7891, grad_fn=<AddBackward0>)\n",
      "39402.59693360525\n",
      "100.0 % done\n"
     ]
    }
   ],
   "source": [
    "itr = 1001\n",
    "lr = 0.00001\n",
    "cur_x_nn = np.random.rand(64, 64)\n",
    "cur_x = np.random.rand(64, 64)\n",
    "\n",
    "\n",
    "for i in range(itr+1):\n",
    "    prev_x_nn = cur_x_nn\n",
    "    prev_x = cur_x\n",
    "    \n",
    "    r_nn = grad_cost_function_nn(prev_x_nn, p_90)\n",
    "    r = grad_cost_function(prev_x, p_90)\n",
    "#     grad_rec = grad_cost_function(prev_x, p_90)\n",
    "    \n",
    "    cur_x = cur_x - lr * r\n",
    "    cur_x_nn = cur_x_nn - lr * r\n",
    "    \n",
    "    \n",
    "    if i%100 == 0:\n",
    "        print('___________________________')\n",
    "        print(cost_function_nn(cur_x_nn, p_90))\n",
    "        print(cost_function(cur_x, p_90))\n",
    "        print(i / ( itr - 1 ) * 100, '% done')\n",
    "        # print(cur_x - original_list[color])"
   ]
  },
  {
   "cell_type": "code",
   "execution_count": 139,
   "metadata": {},
   "outputs": [
    {
     "data": {
      "image/png": "[encoded data removed]",
      "text/plain": [
       "<Figure size 432x288 with 1 Axes>"
      ]
     },
     "metadata": {},
     "output_type": "display_data"
    }
   ],
   "source": [
    "plt.imshow(cur_x.reshape(64, 64))\n",
    "plt.show()"
   ]
  },
  {
   "cell_type": "code",
   "execution_count": 140,
   "metadata": {},
   "outputs": [
    {
     "data": {
      "image/png": "[encoded data removed]",
      "text/plain": [
       "<Figure size 432x288 with 1 Axes>"
      ]
     },
     "metadata": {},
     "output_type": "display_data"
    }
   ],
   "source": [
    "plt.imshow(cur_x_nn.reshape(64, 64))\n",
    "plt.show()"
   ]
  },
  {
   "cell_type": "code",
   "execution_count": 136,
   "metadata": {},
   "outputs": [
    {
     "name": "stdout",
     "output_type": "stream",
     "text": [
      "[[  9.31483031  34.68563673 -16.1499381  -32.96129844  35.63055707\n",
      "   32.68721989 -57.11311762  20.54021244   8.9746534  -27.39903975\n",
      "   40.33301859  -1.17853577 -18.42979077   6.06967833  12.79232919\n",
      "   12.66741421  -7.43676888 -10.25555636 -27.59191106  35.21688758\n",
      "   20.1569935  -28.87607475  19.32540042  29.58323711 -22.77524426\n",
      "  -25.49577805  27.55939188   9.64182696  17.23984398  31.02724252\n",
      "  -22.91406995 -25.2708475   -9.15679236  16.15278585   1.13974607\n",
      "   28.94375439  24.41205522 -11.87767933 -22.3902923    8.07161159\n",
      "   40.83954406  -9.08667623  13.01877518 -32.95653138  32.39581563\n",
      "  -61.31355777  34.60498019   3.93330087  17.71127163   2.08695897\n",
      "  -21.44857341   1.4362238   18.93660098 -29.30834505  21.09432376\n",
      "   -5.53982451  16.94151917  40.45450231 -33.82187456 -37.62581734\n",
      "   29.79734753  40.75040685 -67.40853868  39.7917682 ]]\n",
      "[[  9.81365545  34.77242718 -15.73808639 -32.50386214  35.56999832\n",
      "   32.91747852 -57.15794974  20.19726594   9.35774348 -27.69925658\n",
      "   39.79251041  -1.38732959 -18.67511798   5.76112298  12.3896821\n",
      "   12.90013637  -7.61426329 -10.7547311  -27.41056281  35.71460592\n",
      "   19.45635249 -29.51845021  18.90690424  29.64867    -23.24409372\n",
      "  -25.76276494  27.57806076   8.98368999  17.13387304  30.34639755\n",
      "  -22.72183029 -25.8531041   -9.31216831  16.02291228   1.21346684\n",
      "   28.95712542  24.11856731 -12.47956002 -22.49248072   8.66190476\n",
      "   40.90282626  -8.86560889  12.87679996 -33.55253939  32.76754844\n",
      "  -61.58786846  34.89927393   4.22871978  18.26679552   2.28755738\n",
      "  -21.55967637   2.00390221  18.67086553 -29.79154884  21.55076474\n",
      "   -5.67402287  17.75800976  40.04772684 -34.31599476 -37.16152684\n",
      "   29.70391131  40.23240661 -66.85535855  40.20299301]]\n"
     ]
    }
   ],
   "source": [
    "print(cur_x[0])\n",
    "print(cur_x_nn[0])"
   ]
  },
  {
   "cell_type": "code",
   "execution_count": 137,
   "metadata": {},
   "outputs": [],
   "source": [
    "nn_importance = 1000\n",
    "\n",
    "def f(x):\n",
    "    global A_90\n",
    "    p = np.transpose(np.matmul(A_90, np.transpose(x.flatten())))\n",
    "    return p.reshape(90, 90)\n",
    "\n",
    "def cost_function_nn(x, y):\n",
    "    global nn_importance\n",
    "    nn_input = torch.from_numpy((x/1000).reshape(1, 1, 64, 64))\n",
    "#     print(nn_input.view(1, 1, 64, 64).shape)\n",
    "    nn_input = Variable(nn_input.float(), requires_grad=True)\n",
    "    nn_output = model(nn_input.view(1, 1, 64, 64))\n",
    "#     print('xxx')\n",
    "#     print(np.linalg.norm(f(x)-y.reshape(90, 90)))\n",
    "#     print(nn_importance * nn_output[0][0])\n",
    "#     print('xxx')\n",
    "    return np.linalg.norm(f(x)-y.reshape(90, 90)) + nn_importance * nn_output[0][0]\n",
    "    \n",
    "def grad_cost_function_nn(x, y):\n",
    "    global A_90\n",
    "    global nn_importance\n",
    "    U1 = np.matmul(np.transpose(A_90), np.transpose(f(x).flatten()))\n",
    "#     print(y.flatten().shape)\n",
    "    U2 = np.matmul(np.transpose(A_90), np.transpose(y.flatten()))\n",
    "#     return (np.dot(np.transpose(A), f(x)) - np.dot(np.transpose(A), y))\n",
    "\n",
    "    nn_input = torch.from_numpy((x/1000).reshape(1, 1, 64, 64))\n",
    "    nn_input = Variable(nn_input.float(), requires_grad=True)\n",
    "    nn_output = model(nn_input.view(1, 1, 64, 64))\n",
    "    nn_output.backward(retain_graph=True)\n",
    "    d = torch.autograd.grad(nn_output, nn_input, allow_unused=True)\n",
    "#     print(d[0].shape)\n",
    "    if d[0].shape == torch.Size([1, 1, 64, 64]):\n",
    "        d = d[0][0][0]\n",
    "    else:\n",
    "        d = d[0]\n",
    "    return U1.reshape(64, 64) - U2.reshape(64, 64) + nn_importance * d.numpy()\n"
   ]
  },
  {
   "cell_type": "code",
   "execution_count": null,
   "metadata": {
    "collapsed": true
   },
   "outputs": [],
   "source": []
  }
 ],
 "metadata": {
  "kernelspec": {
   "display_name": "Python 3",
   "language": "python",
   "name": "python3"
  },
  "language_info": {
   "codemirror_mode": {
    "name": "ipython",
    "version": 3
   },
   "file_extension": ".py",
   "mimetype": "text/x-python",
   "name": "python",
   "nbconvert_exporter": "python",
   "pygments_lexer": "ipython3",
   "version": "3.6.2"
  }
 },
 "nbformat": 4,
 "nbformat_minor": 2
}
